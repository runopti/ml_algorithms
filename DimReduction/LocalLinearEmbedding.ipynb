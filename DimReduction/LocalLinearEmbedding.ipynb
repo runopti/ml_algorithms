{
 "cells": [
  {
   "cell_type": "markdown",
   "metadata": {},
   "source": [
    "# Algorithm"
   ]
  },
  {
   "cell_type": "markdown",
   "metadata": {},
   "source": [
    "## inputs: \n",
    "an $n \\times p$ data matrix $X$\n",
    "\n",
    "a desired number of dimensions: $q$ s.t. $q < p$ \n",
    "\n",
    "integer $k$ for finding local neighborhoods, where $k >= q + 1$"
   ]
  },
  {
   "cell_type": "markdown",
   "metadata": {},
   "source": [
    "## output:\n",
    "\n",
    "an $n \\times q$ matrix $Y$"
   ]
  },
  {
   "cell_type": "markdown",
   "metadata": {},
   "source": [
    "##   For each point $x_i$ in $n$ points do:"
   ]
  },
  {
   "cell_type": "markdown",
   "metadata": {},
   "source": [
    "Find k nearest neighbours"
   ]
  },
  {
   "cell_type": "markdown",
   "metadata": {},
   "source": [
    "Find a weight matrix $k \\times n$ $W$ $:=$ $argmin_W  \\sum_i^n || x_i - X' w_i ||^2$, where $X' \\in R^{p \\times k} storing $k$ neighbours. "
   ]
  },
  {
   "cell_type": "markdown",
   "metadata": {},
   "source": [
    "# Intuition\n",
    "\"This means\n",
    "that it is the weights around a given point which characterize what the manifold\n",
    "looks like there (provided the neighborhood is small enough compared to the\n",
    "curvature). Finding the weights gives us the same information as finding the\n",
    "tangent space.\"\n",
    "\n",
    "- Should read Ch4  http://www.stat.cmu.edu/~cshalizi/350/lectures/14/lecture-14.pdf"
   ]
  },
  {
   "cell_type": "code",
   "execution_count": null,
   "metadata": {
    "collapsed": true
   },
   "outputs": [],
   "source": []
  }
 ],
 "metadata": {
  "kernelspec": {
   "display_name": "Python 3",
   "language": "python",
   "name": "python3"
  },
  "language_info": {
   "codemirror_mode": {
    "name": "ipython",
    "version": 3
   },
   "file_extension": ".py",
   "mimetype": "text/x-python",
   "name": "python",
   "nbconvert_exporter": "python",
   "pygments_lexer": "ipython3",
   "version": "3.4.3"
  }
 },
 "nbformat": 4,
 "nbformat_minor": 0
}
