{
 "cells": [
  {
   "cell_type": "markdown",
   "metadata": {},
   "source": [
    "Testing an idea: \n",
    "\n",
    "#### First: \n",
    "Learn the latent manifold of 3 and 7, and 3&7\n",
    "\n",
    "#### Second:\n",
    "Do the variational learning.\n",
    "The loss function would be\n",
    "$$\n",
    "l_i(\\theta, \\phi) = - \\mathbb{E}_{z \\sim q_{\\theta}(z|x_i)} [\\log p_{\\phi} (x_i | z^{(3)}, z^{(7)})]  + KL(q_{\\theta_{(3)}}^{(3)}(z^{(3)} | x_i^{(3)}) q_{\\theta_{(7)}}^{(7)}(z^{(7)} | x_i^{(7)}) || p(z)) \n",
    "$$\n",
    "where\n",
    "\n",
    "- $p(z)$ is the true prior distribution of 3+7"
   ]
  },
  {
   "cell_type": "markdown",
   "metadata": {},
   "source": [
    "The expectaion part can be written (in code):\n",
    "```{python}\n",
    "-tf.reduce_sum(self.x * tf.log(1e-10 + self.x_reconstr_mean) + (1 - self.x) * tf.log(1e-10 + 1 - self.x_reconstr_mean) , 1)\n",
    "```\n",
    "where \n",
    "- self.x is the original mixture data of \"3\" and \"7\".\n",
    "- self.x_reconstr_mean is an addition of the two outputs, which are decoded from a sampling in the learned $z^{(3)}$ and $z^{(7)}$ space. "
   ]
  },
  {
   "cell_type": "markdown",
   "metadata": {},
   "source": [
    "The KL divergence part can be interpreted as "
   ]
  },
  {
   "cell_type": "markdown",
   "metadata": {},
   "source": [
    "The mixing image part is like adding two random variables together. Suppose we have $X_3$ and $X_7$, where $X_3 \\sim p_3(x | z^{(3)})$ and $X_7 \\sim p_7(x | z^{(7)})$ "
   ]
  },
  {
   "cell_type": "markdown",
   "metadata": {},
   "source": [
    "Then, the distribution of $X_3 + X_7$ follows Poisson-Binomial distribution with n = 2. (?) "
   ]
  },
  {
   "cell_type": "markdown",
   "metadata": {},
   "source": [
    "But what about the hidden space? The prior distribution of the hidden space is Gaussian. So should we let..."
   ]
  },
  {
   "cell_type": "markdown",
   "metadata": {},
   "source": [
    "The above problem is solved. Please see the 2016/08/22 notes from my research notebook."
   ]
  },
  {
   "cell_type": "code",
   "execution_count": 8,
   "metadata": {
    "collapsed": false
   },
   "outputs": [],
   "source": [
    "import numpy as np\n",
    "import tensorflow as tf\n",
    "import pickle\n",
    "\n",
    "import matplotlib.pyplot as plt\n",
    "%matplotlib inline\n",
    "\n",
    "np.random.seed(0)\n",
    "tf.set_random_seed(0)"
   ]
  },
  {
   "cell_type": "code",
   "execution_count": 3,
   "metadata": {
    "collapsed": false
   },
   "outputs": [
    {
     "name": "stdout",
     "output_type": "stream",
     "text": [
      "Extracting data/MNIST_data/train-images-idx3-ubyte.gz\n",
      "Extracting data/MNIST_data/train-labels-idx1-ubyte.gz\n",
      "Extracting data/MNIST_data/t10k-images-idx3-ubyte.gz\n",
      "Extracting data/MNIST_data/t10k-labels-idx1-ubyte.gz\n"
     ]
    }
   ],
   "source": [
    "from tensorflow.examples.tutorials.mnist import input_data\n",
    "mnist = input_data.read_data_sets('data/MNIST_data', one_hot=True)\n",
    "n_samples = mnist.train.num_examples"
   ]
  },
  {
   "cell_type": "code",
   "execution_count": 4,
   "metadata": {
    "collapsed": true
   },
   "outputs": [],
   "source": [
    "def xavier_init(fan_in, fan_out, constant=1): \n",
    "    \"\"\" Xavier initialization of network weights\"\"\"\n",
    "    # https://stackoverflow.com/questions/33640581/how-to-do-xavier-initialization-on-tensorflow\n",
    "    low = -constant*np.sqrt(6.0/(fan_in + fan_out)) \n",
    "    high = constant*np.sqrt(6.0/(fan_in + fan_out))\n",
    "    return tf.random_uniform((fan_in, fan_out), \n",
    "                             minval=low, maxval=high, \n",
    "                             dtype=tf.float32)"
   ]
  },
  {
   "cell_type": "code",
   "execution_count": 385,
   "metadata": {
    "collapsed": false
   },
   "outputs": [],
   "source": [
    "class VariationalAutoencoder(object):\n",
    "    \"\"\" Variation Autoencoder (VAE) with an sklearn-like interface implemented using TensorFlow.\n",
    "    \n",
    "    This implementation uses probabilistic encoders and decoders using Gaussian \n",
    "    distributions and  realized by multi-layer perceptrons. The VAE can be learned\n",
    "    end-to-end.\n",
    "    \n",
    "    See \"Auto-Encoding Variational Bayes\" by Kingma and Welling for more details.\n",
    "    \"\"\"\n",
    "    def __init__(self, network_architecture, transfer_fct=tf.nn.softplus, \n",
    "                 learning_rate=0.001, batch_size=100):\n",
    "        self.network_architecture = network_architecture\n",
    "        self.transfer_fct = transfer_fct\n",
    "        self.learning_rate = learning_rate\n",
    "        self.batch_size = batch_size\n",
    "        \n",
    "        # tf Graph input\n",
    "        self.x = tf.placeholder(tf.float32, [None, network_architecture[\"n_input\"]])\n",
    "        \n",
    "        # Create autoencoder network\n",
    "        self._create_network()\n",
    "        # Define loss function based variational upper-bound and \n",
    "        # corresponding optimizer\n",
    "        self._create_loss_optimizer()\n",
    "        \n",
    "        # Initializing the tensor flow variables\n",
    "        init = tf.initialize_all_variables()\n",
    "\n",
    "        # Launch the session\n",
    "        self.sess = tf.InteractiveSession()\n",
    "        self.sess.run(init)\n",
    "    \n",
    "    def _create_network(self):\n",
    "        # Initialize autoencode network weights and biases\n",
    "        self.network_weights = network_weights = self._initialize_weights(**self.network_architecture)\n",
    "\n",
    "        # Use recognition network to determine mean and \n",
    "        # (log) variance of Gaussian distribution in latent\n",
    "        # space\n",
    "        self.z_mean, self.z_log_sigma_sq = \\\n",
    "            self._recognition_network(network_weights[\"weights_recog\"], \n",
    "                                      network_weights[\"biases_recog\"])\n",
    "\n",
    "        # Draw one sample z from Gaussian distribution\n",
    "        n_z = self.network_architecture[\"n_z\"]\n",
    "        eps = tf.random_normal((self.batch_size, n_z), 0, 1, \n",
    "                               dtype=tf.float32)\n",
    "        # z = mu + sigma*epsilon\n",
    "        self.z = tf.add(self.z_mean, \n",
    "                        tf.mul(tf.sqrt(tf.exp(self.z_log_sigma_sq)), eps))\n",
    "\n",
    "        # Use generator to determine mean of\n",
    "        # Bernoulli distribution of reconstructed input\n",
    "        self.x_reconstr_mean = \\\n",
    "            self._generator_network(network_weights[\"weights_gener\"],\n",
    "                                    network_weights[\"biases_gener\"])\n",
    "            \n",
    "    def _initialize_weights(self, n_hidden_recog_1, n_hidden_recog_2, \n",
    "                            n_hidden_gener_1,  n_hidden_gener_2, \n",
    "                            n_input, n_z):\n",
    "        all_weights = dict()\n",
    "        all_weights['weights_recog'] = {\n",
    "            'h1': tf.Variable(xavier_init(n_input, n_hidden_recog_1)),\n",
    "            'h2': tf.Variable(xavier_init(n_hidden_recog_1, n_hidden_recog_2)),\n",
    "            'out_mean': tf.Variable(xavier_init(n_hidden_recog_2, n_z)),\n",
    "            'out_log_sigma': tf.Variable(xavier_init(n_hidden_recog_2, n_z))}\n",
    "        all_weights['biases_recog'] = {\n",
    "            'b1': tf.Variable(tf.zeros([n_hidden_recog_1], dtype=tf.float32)),\n",
    "            'b2': tf.Variable(tf.zeros([n_hidden_recog_2], dtype=tf.float32)),\n",
    "            'out_mean': tf.Variable(tf.zeros([n_z], dtype=tf.float32)),\n",
    "            'out_log_sigma': tf.Variable(tf.zeros([n_z], dtype=tf.float32))}\n",
    "        all_weights['weights_gener'] = {\n",
    "            'h1': tf.Variable(xavier_init(n_z, n_hidden_gener_1)),\n",
    "            'h2': tf.Variable(xavier_init(n_hidden_gener_1, n_hidden_gener_2)),\n",
    "            'out_mean': tf.Variable(xavier_init(n_hidden_gener_2, n_input)),\n",
    "            'out_log_sigma': tf.Variable(xavier_init(n_hidden_gener_2, n_input))}\n",
    "        all_weights['biases_gener'] = {\n",
    "            'b1': tf.Variable(tf.zeros([n_hidden_gener_1], dtype=tf.float32)),\n",
    "            'b2': tf.Variable(tf.zeros([n_hidden_gener_2], dtype=tf.float32)),\n",
    "            'out_mean': tf.Variable(tf.zeros([n_input], dtype=tf.float32)),\n",
    "            'out_log_sigma': tf.Variable(tf.zeros([n_input], dtype=tf.float32))}\n",
    "        return all_weights\n",
    "            \n",
    "    def _recognition_network(self, weights, biases):\n",
    "        # Generate probabilistic encoder (recognition network), which\n",
    "        # maps inputs onto a normal distribution in latent space.\n",
    "        # The transformation is parametrized and can be learned.\n",
    "        layer_1 = self.transfer_fct(tf.add(tf.matmul(self.x, weights['h1']), \n",
    "                                           biases['b1'])) \n",
    "        layer_2 = self.transfer_fct(tf.add(tf.matmul(layer_1, weights['h2']), \n",
    "                                           biases['b2'])) \n",
    "        z_mean = tf.add(tf.matmul(layer_2, weights['out_mean']),\n",
    "                        biases['out_mean'])\n",
    "        z_log_sigma_sq = \\\n",
    "            tf.add(tf.matmul(layer_2, weights['out_log_sigma']), \n",
    "                   biases['out_log_sigma'])\n",
    "        return (z_mean, z_log_sigma_sq)\n",
    "\n",
    "    def _generator_network(self, weights, biases):\n",
    "        # Generate probabilistic decoder (decoder network), which\n",
    "        # maps points in latent space onto a Bernoulli distribution in data space.\n",
    "        # The transformation is parametrized and can be learned.\n",
    "        layer_1 = self.transfer_fct(tf.add(tf.matmul(self.z, weights['h1']), \n",
    "                                           biases['b1'])) \n",
    "        layer_2 = self.transfer_fct(tf.add(tf.matmul(layer_1, weights['h2']), \n",
    "                                           biases['b2'])) \n",
    "        x_reconstr_mean = \\\n",
    "            tf.nn.sigmoid(tf.add(tf.matmul(layer_2, weights['out_mean']), \n",
    "                                 biases['out_mean']))\n",
    "        return x_reconstr_mean\n",
    "            \n",
    "    def _create_loss_optimizer(self):\n",
    "        # The loss is composed of two terms:\n",
    "        # 1.) The reconstruction loss (the negative log probability\n",
    "        #     of the input under the reconstructed Bernoulli distribution \n",
    "        #     induced by the decoder in the data space).\n",
    "        #     This can be interpreted as the number of \"nats\" required\n",
    "        #     for reconstructing the input when the activation in latent\n",
    "        #     is given.\n",
    "        # Adding 1e-10 to avoid evaluatio of log(0.0)\n",
    "        self.reconstr_loss = reconstr_loss = \\\n",
    "            -tf.reduce_sum(self.x * tf.log(1e-4 + self.x_reconstr_mean)\n",
    "                           + (1-self.x) * tf.log(1e-4 + 1 - self.x_reconstr_mean),\n",
    "                           1)\n",
    "        # self.reconstr_loss = reconstr_loss = tf.Print(reconstr_loss, [reconstr_loss], message=\"This is reconstr_loss: \")\n",
    "        # 2.) The latent loss, which is defined as the Kullback Leibler divergence \n",
    "        ##    between the distribution in latent space induced by the encoder on \n",
    "        #     the data and some prior. This acts as a kind of regularizer.\n",
    "        #     This can be interpreted as the number of \"nats\" required\n",
    "        #     for transmitting the the latent space distribution given\n",
    "        #     the prior.\n",
    "        self.latent_loss = latent_loss = -0.5 * tf.reduce_sum(1 + self.z_log_sigma_sq \n",
    "                                           - tf.square(self.z_mean) \n",
    "                                           - tf.exp(self.z_log_sigma_sq), 1)\n",
    "        # self.latent_loss = latent_loss = tf.Print(latent_loss, [latent_loss], message=\"This is latent_loss: \")\n",
    "        self.cost = tf.reduce_mean(reconstr_loss + latent_loss)   # average over batch\n",
    "        # Use ADAM optimizer\n",
    "        self.optimizer = \\\n",
    "            tf.train.AdamOptimizer(learning_rate=self.learning_rate).minimize(self.cost)\n",
    "        \n",
    "    def partial_fit(self, X):\n",
    "        \"\"\"Train model based on mini-batch of input data.\n",
    "        \n",
    "        Return cost of mini-batch.\n",
    "        \"\"\"\n",
    "        opt, cost = self.sess.run((self.optimizer, self.cost), \n",
    "                                  feed_dict={self.x: X})\n",
    "        return cost\n",
    "    \n",
    "    def debug(self, X):\n",
    "        re, la = self.sess.run((self.reconstr_loss, self.latent_loss), feed_dict={self.x: X})\n",
    "        return (re, la)\n",
    "    \n",
    "    def transform(self, X):\n",
    "        \"\"\"Transform data by mapping it into the latent space.\"\"\"\n",
    "        # Note: This maps to mean of distribution, we could alternatively\n",
    "        # sample from Gaussian distribution\n",
    "        return self.sess.run(self.z_mean, feed_dict={self.x: X})\n",
    "    \n",
    "    def generate(self, z_mu=None):\n",
    "        \"\"\" Generate data by sampling from latent space.\n",
    "        \n",
    "        If z_mu is not None, data for this point in latent space is\n",
    "        generated. Otherwise, z_mu is drawn from prior in latent \n",
    "        space.        \n",
    "        \"\"\"\n",
    "        if z_mu is None:\n",
    "            z_mu = np.random.normal(size=self.network_architecture[\"n_z\"])\n",
    "        # Note: This maps to mean of distribution, we could alternatively\n",
    "        # sample from Gaussian distribution\n",
    "        return self.sess.run(self.x_reconstr_mean, \n",
    "                             feed_dict={self.z: z_mu})\n",
    "    \n",
    "    def reconstruct(self, X):\n",
    "        \"\"\" Use VAE to reconstruct given data. \"\"\"\n",
    "        return self.sess.run(self.x_reconstr_mean, \n",
    "                             feed_dict={self.x: X})\n",
    "    \n",
    "    def restoreWeights(self, weights_dict):\n",
    "        assign_op1 = self.network_weights[\"weights_recog\"][\"h1\"].assign(weights_dict[\"weights_recog\"][\"h1\"])\n",
    "        assign_op2 = self.network_weights[\"weights_recog\"][\"h2\"].assign(weights_dict[\"weights_recog\"][\"h2\"])\n",
    "        assign_op3 = self.network_weights[\"weights_recog\"][\"out_mean\"].assign(weights_dict[\"weights_recog\"][\"out_mean\"])\n",
    "        assign_op4 = self.network_weights[\"weights_recog\"][\"out_log_sigma\"].assign(weights_dict[\"weights_recog\"][\"out_log_sigma\"])\n",
    "        self.sess.run([assign_op1, assign_op2, assign_op3, assign_op4])\n",
    "        assign_op1 = self.network_weights[\"biases_recog\"][\"b1\"].assign(weights_dict[\"biases_recog\"][\"b1\"])\n",
    "        assign_op2 = self.network_weights[\"biases_recog\"][\"b2\"].assign(weights_dict[\"biases_recog\"][\"b2\"])\n",
    "        assign_op3 = self.network_weights[\"biases_recog\"][\"out_mean\"].assign(weights_dict[\"biases_recog\"][\"out_mean\"])\n",
    "        assign_op4 = self.network_weights[\"biases_recog\"][\"out_log_sigma\"].assign(weights_dict[\"biases_recog\"][\"out_log_sigma\"])\n",
    "        self.sess.run([assign_op1, assign_op2, assign_op3, assign_op4])\n",
    "        assign_op1 = self.network_weights[\"weights_gener\"][\"h1\"].assign(weights_dict[\"weights_gener\"][\"h1\"])\n",
    "        assign_op2 = self.network_weights[\"weights_gener\"][\"h2\"].assign(weights_dict[\"weights_gener\"][\"h2\"])\n",
    "        assign_op3 = self.network_weights[\"weights_gener\"][\"out_mean\"].assign(weights_dict[\"weights_gener\"][\"out_mean\"])\n",
    "        assign_op4 = self.network_weights[\"weights_gener\"][\"out_log_sigma\"].assign(weights_dict[\"weights_gener\"][\"out_log_sigma\"])\n",
    "        self.sess.run([assign_op1, assign_op2, assign_op3, assign_op4])\n",
    "        assign_op1 = self.network_weights[\"biases_gener\"][\"b1\"].assign(weights_dict[\"biases_gener\"][\"b1\"])\n",
    "        assign_op2 = self.network_weights[\"biases_gener\"][\"b2\"].assign(weights_dict[\"biases_gener\"][\"b2\"])\n",
    "        assign_op3 = self.network_weights[\"biases_gener\"][\"out_mean\"].assign(weights_dict[\"biases_gener\"][\"out_mean\"])\n",
    "        assign_op4 = self.network_weights[\"biases_gener\"][\"out_log_sigma\"].assign(weights_dict[\"biases_gener\"][\"out_log_sigma\"])\n",
    "        self.sess.run([assign_op1, assign_op2, assign_op3, assign_op4])\n",
    "    \n",
    "    def getWeights(self):\n",
    "        all_weights = dict() \n",
    "        all_weights['weights_recog'] = {\n",
    "            'h1': self.sess.run(self.network_weights['weights_recog']['h1']),\n",
    "            'h2': self.sess.run(self.network_weights['weights_recog']['h2']),\n",
    "            'out_mean': self.sess.run(self.network_weights['weights_recog']['out_mean']),\n",
    "            'out_log_sigma': self.sess.run(self.network_weights['weights_recog']['out_log_sigma'])}\n",
    "        all_weights['biases_recog'] = {\n",
    "            'b1': self.sess.run(self.network_weights['biases_recog']['b1']),\n",
    "            'b2': self.sess.run(self.network_weights['biases_recog']['b2']),\n",
    "            'out_mean': self.sess.run(self.network_weights['biases_recog']['out_mean']),\n",
    "            'out_log_sigma': self.sess.run(self.network_weights['biases_recog']['out_log_sigma'])}\n",
    "        all_weights['weights_gener'] = {\n",
    "            'h1': self.sess.run(self.network_weights['weights_gener']['h1']), \n",
    "            'h2': self.sess.run(self.network_weights['weights_gener']['h2']), \n",
    "            'out_mean': self.sess.run(self.network_weights['weights_gener']['out_mean']), \n",
    "            'out_log_sigma': self.sess.run(self.network_weights['weights_gener']['out_log_sigma'])}\n",
    "        all_weights['biases_gener'] = {\n",
    "            'b1': self.sess.run(self.network_weights['biases_gener']['b1']),\n",
    "            'b2': self.sess.run(self.network_weights['biases_gener']['b2']),\n",
    "            'out_mean': self.sess.run(self.network_weights['biases_gener']['out_mean']),\n",
    "            'out_log_sigma': self.sess.run(self.network_weights['biases_gener']['out_log_sigma'])}\n",
    "        return all_weights "
   ]
  },
  {
   "cell_type": "code",
   "execution_count": 21,
   "metadata": {
    "collapsed": false
   },
   "outputs": [],
   "source": [
    "def train(network_architecture, learning_rate=0.001,\n",
    "          batch_size=100, training_epochs=10, display_step=5):\n",
    "    vae = VariationalAutoencoder(network_architecture, \n",
    "                                 learning_rate=learning_rate, \n",
    "                                 batch_size=batch_size)\n",
    "    # Training cycle\n",
    "    for epoch in range(training_epochs):\n",
    "        avg_cost = 0.\n",
    "        total_batch = int(n_samples / batch_size)\n",
    "        # Loop over all batches\n",
    "        for i in range(total_batch):\n",
    "            batch_xs, _ = mnist.train.next_batch(batch_size)\n",
    "\n",
    "            # Fit training using batch data\n",
    "            cost = vae.partial_fit(batch_xs)\n",
    "            # Compute average loss\n",
    "            avg_cost += cost / n_samples * batch_size\n",
    "\n",
    "        # Display logs per epoch step\n",
    "        if epoch % display_step == 0:\n",
    "            print(\"Epoch:\", '%04d' % (epoch+1), \\\n",
    "                  \"cost=\", \"{:.9f}\".format(avg_cost))\n",
    "    return vae"
   ]
  },
  {
   "cell_type": "code",
   "execution_count": 23,
   "metadata": {
    "collapsed": false
   },
   "outputs": [
    {
     "name": "stdout",
     "output_type": "stream",
     "text": [
      "Epoch: 0001 cost= 177.487866155\n",
      "Epoch: 0006 cost= 109.325325845\n",
      "Epoch: 0011 cost= 104.702248064\n",
      "Epoch: 0016 cost= 102.541683072\n",
      "Epoch: 0021 cost= 101.161696195\n",
      "Epoch: 0026 cost= 100.068779047\n",
      "Epoch: 0031 cost= 99.058124528\n",
      "Epoch: 0036 cost= 98.247012801\n",
      "Epoch: 0041 cost= 97.626852625\n",
      "Epoch: 0046 cost= 97.102496657\n",
      "Epoch: 0051 cost= 96.665673953\n",
      "Epoch: 0056 cost= 96.283067655\n",
      "Epoch: 0061 cost= 95.918288422\n",
      "Epoch: 0066 cost= 95.628499451\n",
      "Epoch: 0071 cost= 95.372495755\n"
     ]
    },
    {
     "name": "stderr",
     "output_type": "stream",
     "text": [
      "Exception ignored in: <bound method InteractiveSession.__del__ of <tensorflow.python.client.session.InteractiveSession object at 0x109813978>>\n",
      "Traceback (most recent call last):\n",
      "  File \"/usr/local/lib/python3.4/site-packages/tensorflow/python/client/session.py\", line 178, in __del__\n",
      "    self.close()\n",
      "  File \"/usr/local/lib/python3.4/site-packages/tensorflow/python/client/session.py\", line 1028, in close\n",
      "    self._default_session.__exit__(None, None, None)\n",
      "  File \"/usr/local/Cellar/python3/3.4.3_2/Frameworks/Python.framework/Versions/3.4/lib/python3.4/contextlib.py\", line 66, in __exit__\n",
      "    next(self.gen)\n",
      "  File \"/usr/local/lib/python3.4/site-packages/tensorflow/python/framework/ops.py\", line 3529, in get_controller\n",
      "    % type(default))\n",
      "AssertionError: Nesting violated for default stack of <class 'weakref'> objects\n"
     ]
    }
   ],
   "source": [
    "network_architecture = \\\n",
    "    dict(n_hidden_recog_1=500, # 1st layer encoder neurons\n",
    "         n_hidden_recog_2=500, # 2nd layer encoder neurons\n",
    "         n_hidden_gener_1=500, # 1st layer decoder neurons\n",
    "         n_hidden_gener_2=500, # 2nd layer decoder neurons\n",
    "         n_input=784, # MNIST data input (img shape: 28*28)\n",
    "         n_z=20)  # dimensionality of latent space\n",
    "\n",
    "vae = train(network_architecture, training_epochs=75)"
   ]
  },
  {
   "cell_type": "code",
   "execution_count": 24,
   "metadata": {
    "collapsed": true
   },
   "outputs": [],
   "source": [
    "x_sample = mnist.test.next_batch(100)[0]\n",
    "x_reconstruct = vae.reconstruct(x_sample)"
   ]
  },
  {
   "cell_type": "code",
   "execution_count": 25,
   "metadata": {
    "collapsed": false
   },
   "outputs": [
    {
     "data": {
      "image/png": "[encoded data removed]",
      "text/plain": [
       "<matplotlib.figure.Figure at 0x109813978>"
      ]
     },
     "metadata": {},
     "output_type": "display_data"
    }
   ],
   "source": [
    "#% matplotlib inline\n",
    "pltout = plt.imshow(x_sample[0].reshape(28, 28), cmap=\"gray\") \n",
    "#pltout = plt.imshow(x_reconstruct[0].reshape(28, 28), cmap=\"gray\")"
   ]
  },
  {
   "cell_type": "code",
   "execution_count": 26,
   "metadata": {
    "collapsed": true
   },
   "outputs": [],
   "source": [
    "weights_mnist = vae.getWeights()"
   ]
  },
  {
   "cell_type": "code",
   "execution_count": 32,
   "metadata": {
    "collapsed": false
   },
   "outputs": [],
   "source": [
    "import pickle\n",
    "with open(\"BayesMixNet/mnist_weights_ae.pickle\", \"wb\") as f:\n",
    "    pickle.dump(weights_mnist, f)"
   ]
  },
  {
   "cell_type": "markdown",
   "metadata": {},
   "source": [
    "# Generate Synthesize Data"
   ]
  },
  {
   "cell_type": "code",
   "execution_count": null,
   "metadata": {
    "collapsed": true
   },
   "outputs": [],
   "source": [
    "# Triangle + Rectangle image generator\n",
    "# You can check an example of the images like this:\n",
    "# % matplotlib inline \n",
    "# images, alphas = generateSynthetic(10)\n",
    "# print(images.shape)\n",
    "# print(alphas[1])\n",
    "# plt_out = plt.imshow(images[1].reshape(28,28), cmap=\"gray\")\n",
    "def generateSynthetic(n): # n = training examples\n",
    "    size = 28\n",
    "    image_store = np.zeros([n, 784])\n",
    "    for i in range(n):\n",
    "        # triangle\n",
    "        im = Image.new('L', (28, 28))\n",
    "        draw = ImageDraw.Draw(im)\n",
    "        draw.polygon([(0, 0), (0, 28), (28, 28), (28, 0)], fill = 'black')\n",
    "        draw.polygon([(13,3), (25, 15), (1,15)], fill = 'white') \n",
    "        triangle = np.asarray( im, dtype=\"float32\" )\n",
    "\n",
    "        im = Image.new('L', (28, 28))\n",
    "        draw = ImageDraw.Draw(im)\n",
    "        draw.polygon([(0, 0), (0, 28), (28, 28), (28, 0)], fill = 'black')\n",
    "        draw.polygon([(4,10), (23, 10), (23, 23), (4, 23)], fill = 'white') \n",
    "        rectangle = np.asarray( im, dtype=\"float32\" )   \n",
    "\n",
    "        alpha = np.random.uniform(0,1)\n",
    "        synthetic = np.clip(alpha*triangle + (1-alpha)*rectangle, 0, 255)\n",
    "        image_store[i] = synthetic.reshape(784)\n",
    "        alpha_list.append(alpha)\n",
    "    \n",
    "    return image_store, alpha_list\n",
    "    "
   ]
  },
  {
   "cell_type": "markdown",
   "metadata": {},
   "source": [
    "## Trianlge drawing test"
   ]
  },
  {
   "cell_type": "code",
   "execution_count": 133,
   "metadata": {
    "collapsed": false
   },
   "outputs": [
    {
     "name": "stdout",
     "output_type": "stream",
     "text": [
      "(28, 28)\n"
     ]
    },
    {
     "data": {
      "image/png": "[encoded data removed]",
      "text/plain": [
       "<matplotlib.figure.Figure at 0x121310240>"
      ]
     },
     "metadata": {},
     "output_type": "display_data"
    }
   ],
   "source": [
    "from PIL import Image, ImageDraw \n",
    "# triangle\n",
    "im = Image.new('L', (28, 28))\n",
    "draw = ImageDraw.Draw(im)\n",
    "draw.polygon([(0, 0), (0, 28), (28, 28), (28, 0)], fill = 'black')\n",
    "a = (5,3); b = (8,6); c = (2,6)\n",
    "draw.polygon([a,b,c], fill = 'white') # (13,3), (25, 15), (1,15)\n",
    "draw.polygon([(21,3), (18, 6), (24,6)], fill = 'white') # (13,3), (25, 15), (1,15)\n",
    "draw.polygon([(21,17), (18, 20), (24,20)], fill = 'white')\n",
    "draw.polygon([(5,17), (8, 20), (2,20)], fill = 'white') # (13,3), (25, 15), (1,15)\n",
    "triangle = np.asarray( im, dtype=\"float32\" )\n",
    "\n",
    "% matplotlib inline \n",
    "print(triangle.shape)\n",
    "plt_out = plt.imshow(triangle.reshape(28,28), cmap=\"gray\")"
   ]
  },
  {
   "cell_type": "code",
   "execution_count": 170,
   "metadata": {
    "collapsed": true
   },
   "outputs": [],
   "source": [
    "def getTriangle(n_circle, n):\n",
    "    image_list = []\n",
    "    pos_dict = [\n",
    "            [(5,3), (8,6), (2,6)],\n",
    "            [(21,3),(18, 6),(24,6)],\n",
    "            [(21,17), (18, 20), (24,20)],\n",
    "            [(5,17), (8, 20), (2,20)]\n",
    "    ]\n",
    "    for i in range(n):\n",
    "        if n_circle == 2:\n",
    "            pos_id = np.random.randint(6) # choosing which set of points we use; there are 4 possibilities of positioning three triangles.\n",
    "            if pos_id == 0:\n",
    "                x1,y1,r1 = pos_dict[0]; x2,y2,r2 = pos_dict[1]; \n",
    "            if pos_id == 1:\n",
    "                x1,y1,r1 = pos_dict[0]; x2,y2,r2 = pos_dict[2]; \n",
    "            if pos_id == 2:\n",
    "                x1,y1,r1 = pos_dict[0]; x2,y2,r2 = pos_dict[3]; \n",
    "            if pos_id == 3:\n",
    "                x1,y1,r1 = pos_dict[1]; x2,y2,r2 = pos_dict[2]; \n",
    "            if pos_id == 4:\n",
    "                x1,y1,r1 = pos_dict[1]; x2,y2,r2 = pos_dict[3]; \n",
    "            if pos_id == 5:\n",
    "                x1,y1,r1 = pos_dict[2]; x2,y2,r2 = pos_dict[3]; \n",
    "            \n",
    "            im = Image.new('L', (28, 28))\n",
    "            draw = ImageDraw.Draw(im)\n",
    "            draw.polygon([(0, 0), (0, 28), (28, 28), (28, 0)], fill = 'black')\n",
    "            \n",
    "            dr = np.random.randint(3); dx = np.random.randint(3); dy = np.random.randint(3)\n",
    "            x1 = list(x1); r1 = list(r1); y1 = list(y1)\n",
    "            r1[0] += dr; x1[0] += dx; y1[0] += dy\n",
    "            dr = np.random.randint(3); dx = np.random.randint(3); dy = np.random.randint(3)\n",
    "            r1[1]  += dr; x1[1] += dx; y1[1] += dy\n",
    "            x1 = tuple(x1); r1 = tuple(r1); y1 = tuple(y1)\n",
    "            draw.polygon([x1,y1,r1], fill = 'white')\n",
    "            \n",
    "            x2 = list(x2); r2 = list(r2); y2 = list(y2)\n",
    "            dr = np.random.randint(3); dx = np.random.randint(3); dy = np.random.randint(3)\n",
    "            r2[0]  += dr; x2[0] += dx; y2[0] += dy\n",
    "            dr = np.random.randint(2); dx = np.random.randint(3); dy = np.random.randint(3)\n",
    "            r2[1]  += dr; x2[1] += dx; y2[1] += dy\n",
    "            x2 = tuple(x2); r2 = tuple(r2); y2 = tuple(y2)\n",
    "            draw.polygon([x2,y2,r2], fill = 'white')\n",
    "                     \n",
    "            triangle = np.asarray( im, dtype=\"float32\" )\n",
    "            image_list.append(triangle)\n",
    "            \n",
    "        if n_circle == 3:\n",
    "            pos_id = np.random.randint(4) # choosing which set of points we use; there are 4 possibilities of positioning three triangles.\n",
    "            if pos_id == 0:\n",
    "                x1,y1,r1 = pos_dict[1]; x2,y2,r2 = pos_dict[2]; x3,y3,r3 = pos_dict[3];\n",
    "            if pos_id == 1:\n",
    "                x1,y1,r1 = pos_dict[0]; x2,y2,r2 = pos_dict[2]; x3,y3,r3 = pos_dict[3];\n",
    "            if pos_id == 2:\n",
    "                x1,y1,r1 = pos_dict[0]; x2,y2,r2 = pos_dict[1]; x3,y3,r3 = pos_dict[3];\n",
    "            if pos_id == 3:\n",
    "                x1,y1,r1 = pos_dict[0]; x2,y2,r2 = pos_dict[1]; x3,y3,r3 = pos_dict[2];\n",
    "            \n",
    "            im = Image.new('L', (28, 28))\n",
    "            draw = ImageDraw.Draw(im)\n",
    "            draw.polygon([(0, 0), (0, 28), (28, 28), (28, 0)], fill = 'black')\n",
    "            \n",
    "            x1 = list(x1); r1 = list(r1); y1 = list(y1)\n",
    "            dr = np.random.randint(3); dx = np.random.randint(3); dy = np.random.randint(3)\n",
    "            r1[0]  += dr; x1[0] += dx; y1[0] += dy\n",
    "            dr = np.random.randint(3); dx = np.random.randint(3); dy = np.random.randint(3)\n",
    "            r1[1]  += dr; x1[1] += dx; y1[1] += dy\n",
    "            x1 = tuple(x1); r1 = tuple(r1); y1 = tuple(y1)\n",
    "            draw.polygon([x1,y1,r1], fill = 'white')\n",
    "            \n",
    "            x2 = list(x2); r2 = list(r2); y2 = list(y2)\n",
    "            dr = np.random.randint(3); dx = np.random.randint(3); dy = np.random.randint(3)\n",
    "            r2[0]  += dr; x2[0] += dx; y2[0] += dy\n",
    "            dr = np.random.randint(2); dx = np.random.randint(3); dy = np.random.randint(3)\n",
    "            r2[1]  += dr; x2[1] += dx; y2[1] += dy\n",
    "            x2 = tuple(x2); r2 = tuple(r2); y2 = tuple(y2)\n",
    "            draw.polygon([x2,y2,r2], fill = 'white')\n",
    "\n",
    "            x3 = list(x3); r3 = list(r3); y3 = list(y3)\n",
    "            dr = np.random.randint(3); dx = np.random.randint(3); dy = np.random.randint(3)\n",
    "            r3[0]  += dr; x3[0] += dx; y3[0] += dy\n",
    "            dr = np.random.randint(3); dx = np.random.randint(3); dy = np.random.randint(3)\n",
    "            r3[1]  += dr; x3[1] += dx; y3[1] += dy\n",
    "            x3 = tuple(x3); r3 = tuple(r3); y3 = tuple(y3)\n",
    "            draw.polygon([x3,y3,r3], fill = 'white')\n",
    "                     \n",
    "            triangle = np.asarray( im, dtype=\"float32\" )\n",
    "            image_list.append(triangle)\n",
    "            \n",
    "        if n_circle == 4:\n",
    "            x1 = (5,3); y1 = (8,6); r1 = (2,6)\n",
    "            x2 = (21,3); y2 =  (18, 6); r2 = (24,6)\n",
    "            x3 = (21,17); y3 = (18, 20); r3 = (24,20)\n",
    "            x4 = (5,17); y4 = (8, 20); r4 = (2,20)\n",
    "\n",
    "            im = Image.new('L', (28, 28))\n",
    "            draw = ImageDraw.Draw(im)\n",
    "            draw.polygon([(0, 0), (0, 28), (28, 28), (28, 0)], fill = 'black')\n",
    "            \n",
    "            x1 = list(x1); r1 = list(r1); y1 = list(y1)\n",
    "            dr = np.random.randint(3); dx = np.random.randint(3); dy = np.random.randint(3)\n",
    "            r1[0]  += dr; x1[0] += dx; y1[0] += dy\n",
    "            dr = np.random.randint(3); dx = np.random.randint(3); dy = np.random.randint(3)\n",
    "            r1[1]  += dr; x1[1] += dx; y1[1] += dy\n",
    "            x1 = tuple(x1); r1 = tuple(r1); y1 = tuple(y1)\n",
    "            draw.polygon([x1,y1,r1], fill = 'white')\n",
    "            \n",
    "            x2 = list(x2); r2 = list(r2); y2 = list(y2)\n",
    "            dr = np.random.randint(3); dx = np.random.randint(3); dy = np.random.randint(3)\n",
    "            r2[0]  += dr; x2[0] += dx; y2[0] += dy\n",
    "            dr = np.random.randint(2); dx = np.random.randint(3); dy = np.random.randint(3)\n",
    "            r2[1]  += dr; x2[1] += dx; y2[1] += dy\n",
    "            x2 = tuple(x2); r2 = tuple(r2); y2 = tuple(y2)\n",
    "            draw.polygon([x2,y2,r2], fill = 'white')\n",
    "            \n",
    "            x3 = list(x3); r3 = list(r3); y3 = list(y3)\n",
    "            dr = np.random.randint(3); dx = np.random.randint(3); dy = np.random.randint(3)\n",
    "            r3[0]  += dr; x3[0] += dx; y3[0] += dy\n",
    "            dr = np.random.randint(3); dx = np.random.randint(3); dy = np.random.randint(3)\n",
    "            r3[1]  += dr; x3[1] += dx; y3[1] += dy\n",
    "            x3 = tuple(x3); r3 = tuple(r3); y3 = tuple(y3)\n",
    "            draw.polygon([x3,y3,r3], fill = 'white')\n",
    "            \n",
    "            x4 = list(x4); r4 = list(r4); y4 = list(y4)\n",
    "            dr = np.random.randint(3); dx = np.random.randint(3); dy = np.random.randint(3)\n",
    "            r4[0]  += dr; x4[0] += dx; y4[0] += dy\n",
    "            dr = np.random.randint(2); dx = np.random.randint(3); dy = np.random.randint(3)\n",
    "            r4[1]  += dr; x4[1] += dx; y4[1] += dy\n",
    "            x4 = tuple(x4); r4 = tuple(r4); y4 = tuple(y4)\n",
    "            draw.polygon([x4,y4,r4], fill = 'white')     \n",
    "                     \n",
    "            triangle = np.asarray( im, dtype=\"float32\" )\n",
    "            image_list.append(triangle)\n",
    "\n",
    "    return np.array(image_list).reshape(-1, 784)"
   ]
  },
  {
   "cell_type": "code",
   "execution_count": 146,
   "metadata": {
    "collapsed": false
   },
   "outputs": [],
   "source": [
    "triangles = getTriangle(n_circle=3, n=10)"
   ]
  },
  {
   "cell_type": "code",
   "execution_count": 151,
   "metadata": {
    "collapsed": false
   },
   "outputs": [
    {
     "data": {
      "image/png": "[encoded data removed]",
      "text/plain": [
       "<matplotlib.figure.Figure at 0x1204ce8d0>"
      ]
     },
     "metadata": {},
     "output_type": "display_data"
    }
   ],
   "source": [
    "% matplotlib inline \n",
    "# print(triangle.shape)\n",
    "plt_out = plt.imshow(triangles[7].reshape(28,28), cmap=\"gray\")"
   ]
  },
  {
   "cell_type": "markdown",
   "metadata": {},
   "source": [
    "## Circle drawing test"
   ]
  },
  {
   "cell_type": "code",
   "execution_count": 169,
   "metadata": {
    "collapsed": false
   },
   "outputs": [],
   "source": [
    "def getCircle(n_circle, n):\n",
    "    image_list = []\n",
    "    for i in range(n):\n",
    "        if n_circle == 2:\n",
    "            r = 2; x1 = 5; y1 = 5\n",
    "            r = 2; x2 = 20; y2 = 20\n",
    "            im = Image.new('L', (28, 28))\n",
    "            draw = ImageDraw.Draw(im)\n",
    "            draw.polygon([(0, 0), (0, 28), (28, 28), (28, 0)], fill = 'black')\n",
    "            dr = np.random.randint(2); dx = np.random.randint(3); dy = np.random.randint(3)\n",
    "            r  += dr; x1 += dx; y1 += dy \n",
    "            draw.ellipse((x1-r, y1-r, x1+r, y1+r), fill = 'white') # (x1, y1, x2, y2) (x-r, y-r, x+r, y+r)\n",
    "            dr = np.random.randint(2); dx = np.random.randint(3); dy = np.random.randint(3)\n",
    "            r  += dr; x2 += dx; y2 += dy         \n",
    "            draw.ellipse((x2-r, y2-r, x2+r, y2+r), fill = 'white') # (x1, y1, x2, y2) (x-r, y-r, x+r, y+r)\n",
    "            triangle = np.asarray( im, dtype=\"float32\" )\n",
    "            image_list.append(triangle)\n",
    "        if n_circle == 3:\n",
    "            r1 = 2; x1 = 5; y1 = 14\n",
    "            r2 = 2; x2 = 18; y2 = 5\n",
    "            r3 = 2; x3 = 20; y3 = 20\n",
    "            im = Image.new('L', (28, 28))\n",
    "            draw = ImageDraw.Draw(im)\n",
    "            draw.polygon([(0, 0), (0, 28), (28, 28), (28, 0)], fill = 'black')\n",
    "            dr = np.random.randint(2); dx = np.random.randint(3); dy = np.random.randint(3)\n",
    "            r1  += dr; x1 += dx; y1 += dy \n",
    "            draw.ellipse((x1-r1, y1-r1, x1+r1, y1+r1), fill = 'white') # (x1, y1, x2, y2) (x-r, y-r, x+r, y+r)\n",
    "            dr = np.random.randint(2); dx = np.random.randint(3); dy = np.random.randint(3)\n",
    "            r2  += dr; x2 += dx; y2 += dy         \n",
    "            draw.ellipse((x2-r2, y2-r2, x2+r2, y2+r2), fill = 'white') # (x1, y1, x2, y2) (x-r, y-r, x+r, y+r)\n",
    "            dr = np.random.randint(2); dx = np.random.randint(3); dy = np.random.randint(3)\n",
    "            r3  += dr; x3 += dx; y3 += dy         \n",
    "            draw.ellipse((x3-r3, y3-r3, x3+r3, y3+r3), fill = 'white') # (x1, y1, x2, y2) (x-r, y-r, x+r, y+r)\n",
    "            triangle = np.asarray( im, dtype=\"float32\" )\n",
    "            image_list.append(triangle)\n",
    "\n",
    "        if n_circle == 4:\n",
    "            r1 = 2; x1 = 5; y1 = 5\n",
    "            r2 = 2; x2 = 18; y2 = 5\n",
    "            r3 = 2; x3 = 20; y3 = 21\n",
    "            r4 = 2; x4 = 5; y4 = 20\n",
    "            im = Image.new('L', (28, 28))\n",
    "            draw = ImageDraw.Draw(im)\n",
    "            draw.polygon([(0, 0), (0, 28), (28, 28), (28, 0)], fill = 'black')\n",
    "            dr = np.random.randint(2); dx = np.random.randint(3); dy = np.random.randint(3)\n",
    "            r1  += dr; x1 += dx; y1 += dy \n",
    "            draw.ellipse((x1-r1, y1-r1, x1+r1, y1+r1), fill = 'white') # (x1, y1, x2, y2) (x-r, y-r, x+r, y+r)\n",
    "            dr = np.random.randint(2); dx = np.random.randint(3); dy = np.random.randint(3)\n",
    "            r2  += dr; x2 += dx; y2 += dy         \n",
    "            draw.ellipse((x2-r2, y2-r2, x2+r2, y2+r2), fill = 'white') # (x1, y1, x2, y2) (x-r, y-r, x+r, y+r)\n",
    "            dr = np.random.randint(2); dx = np.random.randint(3); dy = np.random.randint(3)\n",
    "            r3  += dr; x3 += dx; y3 += dy         \n",
    "            draw.ellipse((x3-r3, y3-r3, x3+r3, y3+r3), fill = 'white') # (x1, y1, x2, y2) (x-r, y-r, x+r, y+r)\n",
    "            r4  += dr; x4 += dx; y4 += dy         \n",
    "            draw.ellipse((x4-r4, y4-r4, x4+r4, y4+r4), fill = 'white')\n",
    "            triangle = np.asarray( im, dtype=\"float32\" )\n",
    "            image_list.append(triangle)\n",
    "\n",
    "    return np.array(image_list).reshape(-1, 784)"
   ]
  },
  {
   "cell_type": "code",
   "execution_count": 153,
   "metadata": {
    "collapsed": false
   },
   "outputs": [],
   "source": [
    "circles = getCircle(n_circle=3, n=10)"
   ]
  },
  {
   "cell_type": "code",
   "execution_count": 156,
   "metadata": {
    "collapsed": false
   },
   "outputs": [
    {
     "data": {
      "image/png": "[encoded data removed]",
      "text/plain": [
       "<matplotlib.figure.Figure at 0x11e608400>"
      ]
     },
     "metadata": {},
     "output_type": "display_data"
    }
   ],
   "source": [
    "% matplotlib inline \n",
    "# print(triangle.shape)\n",
    "plt_out = plt.imshow(circles[8].reshape(28,28), cmap=\"gray\")"
   ]
  },
  {
   "cell_type": "markdown",
   "metadata": {},
   "source": [
    "# Save the synthetic data"
   ]
  },
  {
   "cell_type": "code",
   "execution_count": 181,
   "metadata": {
    "collapsed": false
   },
   "outputs": [
    {
     "name": "stdout",
     "output_type": "stream",
     "text": [
      "0\n",
      "1666\n",
      "1666\n",
      "3332\n",
      "3332\n",
      "4998\n",
      "4998\n",
      "6664\n",
      "6664\n",
      "8330\n",
      "8330\n",
      "9996\n"
     ]
    }
   ],
   "source": [
    "import pickle\n",
    "# training samples 50000 test samples 10000\n",
    "# triangle {2,3,4} circles {2,3,4}\n",
    "syn_data = np.zeros([10000, 784])\n",
    "fro = 0\n",
    "to = 1666\n",
    "for i in range(3):\n",
    "    print(fro)\n",
    "    print(to)\n",
    "    syn_data[fro:to] = getTriangle(n_circle=(i+2), n=1666)\n",
    "    fro += 1666\n",
    "    to += 1666\n",
    "for i in range(3):\n",
    "    print(fro)\n",
    "    print(to)\n",
    "    syn_data[fro:to] = getCircle(n_circle=(i+2), n=1666)\n",
    "    fro += 1666\n",
    "    to += 1666"
   ]
  },
  {
   "cell_type": "code",
   "execution_count": 182,
   "metadata": {
    "collapsed": false
   },
   "outputs": [],
   "source": [
    "syn_data[9996:] = getCircle(n_circle=4, n=4)"
   ]
  },
  {
   "cell_type": "code",
   "execution_count": 184,
   "metadata": {
    "collapsed": false
   },
   "outputs": [
    {
     "data": {
      "image/png": "[encoded data removed]",
      "text/plain": [
       "<matplotlib.figure.Figure at 0x120645240>"
      ]
     },
     "metadata": {},
     "output_type": "display_data"
    }
   ],
   "source": [
    "% matplotlib inline\n",
    "a = plt.imshow(syn_data[9999].reshape(28, 28), cmap=\"gray\")"
   ]
  },
  {
   "cell_type": "code",
   "execution_count": 185,
   "metadata": {
    "collapsed": true
   },
   "outputs": [],
   "source": [
    "import pickle\n",
    "with open(\"./BayesMixNet/syn_data_test.pickle\", \"wb\") as f:\n",
    "    pickle.dump(syn_data, f)"
   ]
  },
  {
   "cell_type": "code",
   "execution_count": 187,
   "metadata": {
    "collapsed": false
   },
   "outputs": [
    {
     "name": "stdout",
     "output_type": "stream",
     "text": [
      "0\n",
      "8333\n",
      "8333\n",
      "16666\n",
      "16666\n",
      "24999\n",
      "24999\n",
      "33332\n",
      "33332\n",
      "41665\n",
      "41665\n",
      "49998\n"
     ]
    }
   ],
   "source": [
    "import pickle\n",
    "# training samples 50000 test samples 10000\n",
    "# triangle {2,3,4} circles {2,3,4}\n",
    "syn_data = np.zeros([50000, 784])\n",
    "step = 8333\n",
    "fro = 0\n",
    "to = step\n",
    "for i in range(3):\n",
    "    print(fro)\n",
    "    print(to)\n",
    "    syn_data[fro:to] = getTriangle(n_circle=(i+2), n=step)\n",
    "    fro += step\n",
    "    to += step\n",
    "for i in range(3):\n",
    "    print(fro)\n",
    "    print(to)\n",
    "    syn_data[fro:to] = getCircle(n_circle=(i+2), n=step)\n",
    "    fro += step\n",
    "    to += step"
   ]
  },
  {
   "cell_type": "code",
   "execution_count": 188,
   "metadata": {
    "collapsed": true
   },
   "outputs": [],
   "source": [
    "syn_data[49998:] = getCircle(n_circle=4, n=2)"
   ]
  },
  {
   "cell_type": "code",
   "execution_count": 189,
   "metadata": {
    "collapsed": false
   },
   "outputs": [
    {
     "data": {
      "image/png": "[encoded data removed]",
      "text/plain": [
       "<matplotlib.figure.Figure at 0x1193866a0>"
      ]
     },
     "metadata": {},
     "output_type": "display_data"
    }
   ],
   "source": [
    "% matplotlib inline\n",
    "a = plt.imshow(syn_data[49999].reshape(28, 28), cmap=\"gray\")"
   ]
  },
  {
   "cell_type": "code",
   "execution_count": 190,
   "metadata": {
    "collapsed": true
   },
   "outputs": [],
   "source": [
    "import pickle\n",
    "with open(\"./BayesMixNet/syn_data_train.pickle\", \"wb\") as f:\n",
    "    pickle.dump(syn_data, f)"
   ]
  },
  {
   "cell_type": "markdown",
   "metadata": {},
   "source": [
    "# Train VAE on Synthetic Data"
   ]
  },
  {
   "cell_type": "code",
   "execution_count": 220,
   "metadata": {
    "collapsed": false
   },
   "outputs": [],
   "source": [
    "with open(\"./BayesMixNet/syn_data_train.pickle\", \"rb\") as f:\n",
    "    syn_data_train = pickle.load(f)    "
   ]
  },
  {
   "cell_type": "code",
   "execution_count": 221,
   "metadata": {
    "collapsed": false
   },
   "outputs": [
    {
     "data": {
      "text/plain": [
       "50000"
      ]
     },
     "execution_count": 221,
     "metadata": {},
     "output_type": "execute_result"
    }
   ],
   "source": [
    "n_samples = syn_data_train.shape[0]\n",
    "n_samples"
   ]
  },
  {
   "cell_type": "code",
   "execution_count": 222,
   "metadata": {
    "collapsed": true
   },
   "outputs": [],
   "source": [
    "np.random.shuffle(syn_data_train)"
   ]
  },
  {
   "cell_type": "code",
   "execution_count": 223,
   "metadata": {
    "collapsed": false
   },
   "outputs": [
    {
     "data": {
      "text/plain": [
       "(50000, 784)"
      ]
     },
     "execution_count": 223,
     "metadata": {},
     "output_type": "execute_result"
    }
   ],
   "source": [
    "syn_data_train.shape"
   ]
  },
  {
   "cell_type": "markdown",
   "metadata": {},
   "source": [
    "## Normalization"
   ]
  },
  {
   "cell_type": "code",
   "execution_count": 257,
   "metadata": {
    "collapsed": true
   },
   "outputs": [],
   "source": [
    "syn_data_train /= 255"
   ]
  },
  {
   "cell_type": "code",
   "execution_count": 260,
   "metadata": {
    "collapsed": false
   },
   "outputs": [
    {
     "name": "stdout",
     "output_type": "stream",
     "text": [
      "0.0917274234694\n",
      "0.288640785845\n"
     ]
    }
   ],
   "source": [
    "print(np.mean(syn_data_train))\n",
    "print(np.std(syn_data_train))"
   ]
  },
  {
   "cell_type": "code",
   "execution_count": 261,
   "metadata": {
    "collapsed": true
   },
   "outputs": [],
   "source": [
    "def normalizeData(patches):\n",
    "    # subtract its mean and truncate it  to -/+3*std\n",
    "    patches = patches - np.mean(patches)\n",
    "    pstd = np.std(patches)\n",
    "    patches = np.clip(patches, -pstd, pstd) / pstd\n",
    "    \n",
    "    # rescale from [-1, 1] to [0.1, 0.9] \n",
    "    # patches = (patches + 1) * 0.4 + 0.1\n",
    "    return patches"
   ]
  },
  {
   "cell_type": "code",
   "execution_count": 262,
   "metadata": {
    "collapsed": true
   },
   "outputs": [],
   "source": [
    "syn_data_train = normalizeData(syn_data_train)"
   ]
  },
  {
   "cell_type": "code",
   "execution_count": 263,
   "metadata": {
    "collapsed": false
   },
   "outputs": [
    {
     "data": {
      "image/png": "[encoded data removed]",
      "text/plain": [
       "<matplotlib.figure.Figure at 0x108b70ef0>"
      ]
     },
     "metadata": {},
     "output_type": "display_data"
    }
   ],
   "source": [
    "p = plt.imshow(syn_data_train[1].reshape(28, 28), cmap=\"gray\")"
   ]
  },
  {
   "cell_type": "code",
   "execution_count": 256,
   "metadata": {
    "collapsed": false
   },
   "outputs": [
    {
     "data": {
      "text/plain": [
       "255.0"
      ]
     },
     "execution_count": 256,
     "metadata": {},
     "output_type": "execute_result"
    }
   ],
   "source": [
    "np.max(syn_data_train[0])"
   ]
  },
  {
   "cell_type": "code",
   "execution_count": 15,
   "metadata": {
    "collapsed": true
   },
   "outputs": [],
   "source": [
    "def get_random_block_from_data(data, batch_size):\n",
    "    start_index = np.random.randint(0, len(data) - batch_size)\n",
    "    return data[start_index:(start_index + batch_size)] "
   ]
  },
  {
   "cell_type": "code",
   "execution_count": 386,
   "metadata": {
    "collapsed": true
   },
   "outputs": [],
   "source": [
    "def train(network_architecture, learning_rate=0.001,\n",
    "          batch_size=100, training_epochs=10, display_step=5):\n",
    "    with tf.Graph().as_default():\n",
    "        vae = VariationalAutoencoder(network_architecture, \n",
    "                                     learning_rate=learning_rate, \n",
    "                                     batch_size=batch_size)\n",
    "        # Training cycle\n",
    "        for epoch in range(training_epochs):\n",
    "            avg_cost = 0.\n",
    "            total_batch = int(n_samples / batch_size)\n",
    "            # Loop over all batches\n",
    "            for i in range(total_batch):\n",
    "                # batch_xs, _ = mnist.train.next_batch(batch_size)\n",
    "                batch_xs = get_random_block_from_data(syn_data_train, batch_size)\n",
    "\n",
    "                # Fit training using batch data\n",
    "#                 if epoch >= 3:\n",
    "#                     re, la = vae.debug(batch_xs)\n",
    "#                     print(re)\n",
    "#                     print(la)\n",
    "                cost = vae.partial_fit(batch_xs)\n",
    "                # Compute average loss\n",
    "                avg_cost += cost / n_samples * batch_size\n",
    "\n",
    "            # Display logs per epoch step\n",
    "            if epoch % display_step == 0:\n",
    "                print(\"Epoch:\", '%04d' % (epoch+1), \\\n",
    "                      \"cost=\", \"{:.9f}\".format(avg_cost))\n",
    "    return vae"
   ]
  },
  {
   "cell_type": "code",
   "execution_count": 384,
   "metadata": {
    "collapsed": false
   },
   "outputs": [
    {
     "name": "stdout",
     "output_type": "stream",
     "text": [
      "-9.21034\n"
     ]
    }
   ],
   "source": [
    "with tf.Graph().as_default():\n",
    "    with tf.Session() as sess:\n",
    "        a = tf.log(1e-4)\n",
    "        print(sess.run(a))"
   ]
  },
  {
   "cell_type": "code",
   "execution_count": 379,
   "metadata": {
    "collapsed": false
   },
   "outputs": [
    {
     "data": {
      "text/plain": [
       "5.612244897959184"
      ]
     },
     "execution_count": 379,
     "metadata": {},
     "output_type": "execute_result"
    }
   ],
   "source": [
    "4400 / 784"
   ]
  },
  {
   "cell_type": "code",
   "execution_count": 501,
   "metadata": {
    "collapsed": false
   },
   "outputs": [
    {
     "name": "stdout",
     "output_type": "stream",
     "text": [
      "Epoch: 0001 cost= -1666.214838020\n",
      "Epoch: 0006 cost= -1917.210370117\n"
     ]
    },
    {
     "name": "stderr",
     "output_type": "stream",
     "text": [
      "Exception ignored in: <bound method InteractiveSession.__del__ of <tensorflow.python.client.session.InteractiveSession object at 0x11fa4b470>>\n",
      "Traceback (most recent call last):\n",
      "  File \"/usr/local/lib/python3.4/site-packages/tensorflow/python/client/session.py\", line 178, in __del__\n",
      "    self.close()\n",
      "  File \"/usr/local/lib/python3.4/site-packages/tensorflow/python/client/session.py\", line 1028, in close\n",
      "    self._default_session.__exit__(None, None, None)\n",
      "  File \"/usr/local/Cellar/python3/3.4.3_2/Frameworks/Python.framework/Versions/3.4/lib/python3.4/contextlib.py\", line 66, in __exit__\n",
      "    next(self.gen)\n",
      "  File \"/usr/local/lib/python3.4/site-packages/tensorflow/python/framework/ops.py\", line 3529, in get_controller\n",
      "    % type(default))\n",
      "AssertionError: Nesting violated for default stack of <class 'weakref'> objects\n"
     ]
    }
   ],
   "source": [
    "network_architecture = \\\n",
    "    dict(n_hidden_recog_1=500, # 1st layer encoder neurons\n",
    "         n_hidden_recog_2=500, # 2nd layer encoder neurons\n",
    "         n_hidden_gener_1=500, # 1st layer decoder neurons\n",
    "         n_hidden_gener_2=500, # 2nd layer decoder neurons\n",
    "         n_input=784, # MNIST data input (img shape: 28*28)\n",
    "         n_z=20)  # dimensionality of latent space\n",
    "\n",
    "vae = train(network_architecture, learning_rate = 0.001, training_epochs=10)"
   ]
  },
  {
   "cell_type": "code",
   "execution_count": 271,
   "metadata": {
    "collapsed": true
   },
   "outputs": [],
   "source": [
    "with open(\"./BayesMixNet/syn_data_test.pickle\", \"rb\") as f:\n",
    "    syn_data_test = pickle.load(f)"
   ]
  },
  {
   "cell_type": "code",
   "execution_count": 272,
   "metadata": {
    "collapsed": true
   },
   "outputs": [],
   "source": [
    "syn_data_test /= 255\n",
    "syn_data_test = normalizeData(syn_data_test)"
   ]
  },
  {
   "cell_type": "code",
   "execution_count": 326,
   "metadata": {
    "collapsed": true
   },
   "outputs": [],
   "source": [
    "np.random.shuffle(syn_data_test)"
   ]
  },
  {
   "cell_type": "code",
   "execution_count": 502,
   "metadata": {
    "collapsed": true
   },
   "outputs": [],
   "source": [
    "x_sample = syn_data_test[:100] # mnist.test.next_batch(100)[0]\n",
    "x_reconstruct = vae.reconstruct(x_sample)"
   ]
  },
  {
   "cell_type": "code",
   "execution_count": 509,
   "metadata": {
    "collapsed": false
   },
   "outputs": [
    {
     "data": {
      "image/png": "[encoded data removed]",
      "text/plain": [
       "<matplotlib.figure.Figure at 0x11f78d7b8>"
      ]
     },
     "metadata": {},
     "output_type": "display_data"
    }
   ],
   "source": [
    "fig, axes = plt.subplots(nrows=1, ncols=2, sharex=True, sharey=True, figsize=(10,5))\n",
    "i = 50\n",
    "plt_ = axes[0].imshow(x_sample[i].reshape(28, 28), cmap=\"gray\")\n",
    "plt_ = axes[1].imshow(x_reconstruct[i].reshape(28, 28), cmap=\"gray\") "
   ]
  },
  {
   "cell_type": "markdown",
   "metadata": {},
   "source": [
    "# TO DO: save the network weights for Synthesized and start building the mix net"
   ]
  },
  {
   "cell_type": "code",
   "execution_count": 510,
   "metadata": {
    "collapsed": true
   },
   "outputs": [],
   "source": [
    "weights_syn = vae.getWeights()\n",
    "import pickle\n",
    "with open(\"BayesMixNet/syn_weights_ae.pickle\", \"wb\") as f:\n",
    "    pickle.dump(weights_syn, f)"
   ]
  },
  {
   "cell_type": "markdown",
   "metadata": {},
   "source": [
    "# BEGIN: Checking the restoreWeights function for MNIST"
   ]
  },
  {
   "cell_type": "code",
   "execution_count": 359,
   "metadata": {
    "collapsed": false
   },
   "outputs": [
    {
     "name": "stderr",
     "output_type": "stream",
     "text": [
      "Exception ignored in: <bound method InteractiveSession.__del__ of <tensorflow.python.client.session.InteractiveSession object at 0x12111d7b8>>\n",
      "Traceback (most recent call last):\n",
      "  File \"/usr/local/lib/python3.4/site-packages/tensorflow/python/client/session.py\", line 178, in __del__\n",
      "    self.close()\n",
      "  File \"/usr/local/lib/python3.4/site-packages/tensorflow/python/client/session.py\", line 1028, in close\n",
      "    self._default_session.__exit__(None, None, None)\n",
      "  File \"/usr/local/Cellar/python3/3.4.3_2/Frameworks/Python.framework/Versions/3.4/lib/python3.4/contextlib.py\", line 66, in __exit__\n",
      "    next(self.gen)\n",
      "  File \"/usr/local/lib/python3.4/site-packages/tensorflow/python/framework/ops.py\", line 3529, in get_controller\n",
      "    % type(default))\n",
      "AssertionError: Nesting violated for default stack of <class 'weakref'> objects\n"
     ]
    }
   ],
   "source": [
    "network_architecture = \\\n",
    "    dict(n_hidden_recog_1=500, # 1st layer encoder neurons\n",
    "         n_hidden_recog_2=500, # 2nd layer encoder neurons\n",
    "         n_hidden_gener_1=500, # 1st layer decoder neurons\n",
    "         n_hidden_gener_2=500, # 2nd layer decoder neurons\n",
    "         n_input=784, # MNIST data input (img shape: 28*28)\n",
    "         n_z=20)  # dimensionality of latent space\n",
    "#def train(network_architecture, learning_rate=0.001,\n",
    "#          batch_size=100\n",
    "vae_mnist = VariationalAutoencoder(network_architecture, \n",
    "                                 learning_rate=0.001, \n",
    "                                 batch_size=100)"
   ]
  },
  {
   "cell_type": "code",
   "execution_count": 353,
   "metadata": {
    "collapsed": true
   },
   "outputs": [],
   "source": [
    "with open(\"./BayesMixNet/mnist_weights_ae.pickle\", \"rb\") as f:\n",
    "    mnist_weights = pickle.load(f)"
   ]
  },
  {
   "cell_type": "code",
   "execution_count": 360,
   "metadata": {
    "collapsed": false
   },
   "outputs": [],
   "source": [
    "vae_mnist.restoreWeights(mnist_weights)"
   ]
  },
  {
   "cell_type": "code",
   "execution_count": 361,
   "metadata": {
    "collapsed": true
   },
   "outputs": [],
   "source": [
    "x_sample = mnist.test.next_batch(100)[0]\n",
    "x_reconstruct = vae_mnist.reconstruct(x_sample)"
   ]
  },
  {
   "cell_type": "code",
   "execution_count": 370,
   "metadata": {
    "collapsed": false
   },
   "outputs": [
    {
     "data": {
      "image/png": "[encoded data removed]",
      "text/plain": [
       "<matplotlib.figure.Figure at 0x11fa1c160>"
      ]
     },
     "metadata": {},
     "output_type": "display_data"
    }
   ],
   "source": [
    "fig, axes = plt.subplots(nrows=1, ncols=2, sharex=True, sharey=True, figsize=(10,5))\n",
    "i = 15\n",
    "plt_ = axes[0].imshow(x_sample[i].reshape(28, 28), cmap=\"gray\")\n",
    "plt_ = axes[1].imshow(x_reconstruct[i].reshape(28, 28), cmap=\"gray\") "
   ]
  },
  {
   "cell_type": "markdown",
   "metadata": {},
   "source": [
    "# END: Checking the restoreWeights function for MNIST"
   ]
  },
  {
   "cell_type": "markdown",
   "metadata": {},
   "source": [
    "# BEGIN: Build Variational Mix Nets"
   ]
  },
  {
   "cell_type": "code",
   "execution_count": 5,
   "metadata": {
    "collapsed": false
   },
   "outputs": [],
   "source": [
    "class VariationlMixNet(object):\n",
    "    \"\"\" Variation Mixture Net with an sklearn-like interface implemented using TensorFlow.\n",
    "    \n",
    "    This implementation uses probabilistic encoders and decoders using Gaussian \n",
    "    distributions and  realized by multi-layer perceptrons. The Variational Mix Net requires\n",
    "    a set of trained weights.\n",
    "    \n",
    "    See \"Auto-Encoding Variational Bayes\" by Kingma and Welling for more details.\n",
    "    \"\"\"\n",
    "    def __init__(self, network_architecture1, network_architecture2, transfer_fct=tf.nn.softplus, \n",
    "                 learning_rate=0.001, batch_size=100):\n",
    "        self.network_architecture = network_architecture1\n",
    "        self.network_architecture2 = network_architecture2\n",
    "        self.transfer_fct = transfer_fct\n",
    "        self.learning_rate = learning_rate\n",
    "        self.batch_size = batch_size\n",
    "        \n",
    "        # tf Graph input\n",
    "        self.x = tf.placeholder(tf.float32, [None, self.network_architecture[\"n_input\"]])\n",
    "        \n",
    "        \n",
    "        # Create autoencoder network\n",
    "        self._create_network()\n",
    "        # Define loss function based variational upper-bound and \n",
    "        # corresponding optimizer\n",
    "        self._create_loss_optimizer()\n",
    "        \n",
    "        # Initializing the tensor flow variables\n",
    "        init = tf.initialize_all_variables()\n",
    "\n",
    "        # Launch the session\n",
    "        self.sess = tf.InteractiveSession()\n",
    "        self.sess.run(init)\n",
    "    \n",
    "    def _create_network(self):\n",
    "        # Initialize autoencode network weights and biases\n",
    "        self.network_weights = self._initialize_weights(**self.network_architecture)\n",
    "        self.network_weights2 = self._initialize_weights(**self.network_architecture2)\n",
    "\n",
    "        # Use recognition network to determine mean and \n",
    "        # (log) variance of Gaussian distribution in latent\n",
    "        # space\n",
    "        self.z_mean, self.z_log_sigma_sq, self.z_mean_s, self.z_log_sigma_sq_s = \\\n",
    "            self._recognition_network(self.network_weights[\"weights_recog\"], \n",
    "                                      self.network_weights[\"biases_recog\"], \n",
    "                                      self.network_weights2[\"weights_recog\"],\n",
    "                                      self.network_weights2[\"biases_recog\"])\n",
    "\n",
    "        # Draw one sample z from Gaussian distribution\n",
    "        n_z = self.network_architecture[\"n_z\"]\n",
    "        eps = tf.random_normal((self.batch_size, n_z), 0, 1, \n",
    "                               dtype=tf.float32)\n",
    "        eps_s = tf.random_normal((self.batch_size, n_z), 0, 1, \n",
    "                               dtype=tf.float32)\n",
    "        # z = mu + sigma*epsilon\n",
    "        self.z = tf.add(self.z_mean, \n",
    "                        tf.mul(tf.sqrt(tf.exp(self.z_log_sigma_sq)), eps))\n",
    "        self.z_s = tf.add(self.z_mean_s, \n",
    "                        tf.mul(tf.sqrt(tf.exp(self.z_log_sigma_sq_s)), eps_s))\n",
    "\n",
    "        # Use generator to determine mean of\n",
    "        # Bernoulli distribution of reconstructed input\n",
    "        self.x_reconstr_mean = \\\n",
    "            self._generator_network(self.network_weights[\"weights_gener\"],\n",
    "                                    self.network_weights[\"biases_gener\"],\n",
    "                                    self.network_weights2[\"weights_gener\"],\n",
    "                                    self.network_weights2[\"biases_gener\"]) \n",
    "            \n",
    "    def _initialize_weights(self, n_hidden_recog_1, n_hidden_recog_2, \n",
    "                            n_hidden_gener_1,  n_hidden_gener_2, \n",
    "                            n_input, n_z):\n",
    "        all_weights = dict()\n",
    "        with tf.name_scope(\"encoder\") as scope:\n",
    "            all_weights['weights_recog'] = {\n",
    "                'h1': tf.Variable(xavier_init(n_input, n_hidden_recog_1)),\n",
    "                'h2': tf.Variable(xavier_init(n_hidden_recog_1, n_hidden_recog_2)),\n",
    "                'out_mean': tf.Variable(xavier_init(n_hidden_recog_2, n_z)),\n",
    "                'out_log_sigma': tf.Variable(xavier_init(n_hidden_recog_2, n_z))}\n",
    "            all_weights['biases_recog'] = {\n",
    "                'b1': tf.Variable(tf.zeros([n_hidden_recog_1], dtype=tf.float32)),\n",
    "                'b2': tf.Variable(tf.zeros([n_hidden_recog_2], dtype=tf.float32)),\n",
    "                'out_mean': tf.Variable(tf.zeros([n_z], dtype=tf.float32)),\n",
    "                'out_log_sigma': tf.Variable(tf.zeros([n_z], dtype=tf.float32))}\n",
    "        with tf.name_scope(\"decoder\") as scope:\n",
    "            all_weights['weights_gener'] = {\n",
    "                'h1': tf.Variable(xavier_init(n_z, n_hidden_gener_1)),\n",
    "                'h2': tf.Variable(xavier_init(n_hidden_gener_1, n_hidden_gener_2)),\n",
    "                'out_mean': tf.Variable(xavier_init(n_hidden_gener_2, n_input)),\n",
    "                'out_log_sigma': tf.Variable(xavier_init(n_hidden_gener_2, n_input))}\n",
    "            all_weights['biases_gener'] = {\n",
    "                'b1': tf.Variable(tf.zeros([n_hidden_gener_1], dtype=tf.float32)),\n",
    "                'b2': tf.Variable(tf.zeros([n_hidden_gener_2], dtype=tf.float32)),\n",
    "                'out_mean': tf.Variable(tf.zeros([n_input], dtype=tf.float32)),\n",
    "                'out_log_sigma': tf.Variable(tf.zeros([n_input], dtype=tf.float32))}\n",
    "        return all_weights\n",
    "            \n",
    "    def _recognition_network(self, weights, biases, weights2, biases2):\n",
    "        # Generate probabilistic encoder (recognition network), which\n",
    "        # maps inputs onto a normal distribution in latent space.\n",
    "        # The transformation is parametrized and can be learned.\n",
    "        \n",
    "        # Network 1 (MNIST)\n",
    "        layer_1 = self.transfer_fct(tf.add(tf.matmul(self.x, weights['h1']), \n",
    "                                           biases['b1'])) \n",
    "        layer_2 = self.transfer_fct(tf.add(tf.matmul(layer_1, weights['h2']), \n",
    "                                           biases['b2'])) \n",
    "        z_mean = tf.add(tf.matmul(layer_2, weights['out_mean']),\n",
    "                        biases['out_mean'])\n",
    "        z_log_sigma_sq = \\\n",
    "            tf.add(tf.matmul(layer_2, weights['out_log_sigma']), \n",
    "                   biases['out_log_sigma'])\n",
    "            \n",
    "        # Network 2 (Synthesized) \n",
    "        layer_1_s = self.transfer_fct(tf.add(tf.matmul(self.x, weights2['h1']), \n",
    "                                           biases2['b1']))  \n",
    "        layer_2_s = self.transfer_fct(tf.add(tf.matmul(layer_1_s, weights2['h2']), \n",
    "                                           biases2['b2'])) \n",
    "        z_mean_s = tf.add(tf.matmul(layer_2_s, weights2['out_mean']),\n",
    "                        biases2['out_mean'])\n",
    "        z_log_sigma_sq_s = \\\n",
    "            tf.add(tf.matmul(layer_2_s, weights2['out_log_sigma']), \n",
    "                   biases2['out_log_sigma'])\n",
    "        return (z_mean, z_log_sigma_sq, z_mean_s, z_log_sigma_sq_s)\n",
    "\n",
    "    def _generator_network(self, weights, biases, weights2, biases2):\n",
    "        # Generate probabilistic decoder (decoder network), which\n",
    "        # maps points in latent space onto a Bernoulli distribution in data space.\n",
    "        # The transformation is parametrized and can be learned.\n",
    "        \n",
    "        # Network 1 (MNIST)\n",
    "        layer_1 = self.transfer_fct(tf.add(tf.matmul(self.z, weights['h1']), \n",
    "                                           biases['b1'])) \n",
    "        layer_2 = self.transfer_fct(tf.add(tf.matmul(layer_1, weights['h2']), \n",
    "                                           biases['b2'])) \n",
    "        self.x_reconstr_mean_m = \\\n",
    "            tf.nn.sigmoid(tf.add(tf.matmul(layer_2, weights['out_mean']), \n",
    "                                 biases['out_mean']))\n",
    "        # Network 2 (Synthesized)\n",
    "        layer_1_s = self.transfer_fct(tf.add(tf.matmul(self.z_s, weights2['h1']), \n",
    "                                           biases2['b1'])) \n",
    "        layer_2_s = self.transfer_fct(tf.add(tf.matmul(layer_1_s, weights2['h2']), \n",
    "                                           biases2['b2'])) \n",
    "        self.x_reconstr_mean_s = \\\n",
    "            tf.nn.sigmoid(tf.add(tf.matmul(layer_2_s, weights2['out_mean']), \n",
    "                                 biases2['out_mean']))\n",
    "        x_reconstr_mean = 0.5 * (self.x_reconstr_mean_m + self.x_reconstr_mean_s)\n",
    "        return x_reconstr_mean\n",
    "            \n",
    "    def _create_loss_optimizer(self):\n",
    "        # The loss is composed of two terms:\n",
    "        # 1.) The reconstruction loss (the negative log probability\n",
    "        #     of the input under the reconstructed Bernoulli distribution \n",
    "        #     induced by the decoder in the data space).\n",
    "        #     This can be interpreted as the number of \"nats\" required\n",
    "        #     for reconstructing the input when the activation in latent\n",
    "        #     is given.\n",
    "        # Adding 1e-10 to avoid evaluatio of log(0.0)\n",
    "        self.reconstr_loss = reconstr_loss = \\\n",
    "            -tf.reduce_sum(self.x * tf.log(1e-4 + self.x_reconstr_mean)\n",
    "                           + (1-self.x) * tf.log(1e-4 + 1 - self.x_reconstr_mean),\n",
    "                           1) \n",
    "        # self.reconstr_loss = reconstr_loss = tf.Print(reconstr_loss, [reconstr_loss], message=\"This is reconstr_loss: \")\n",
    "        # 2.) The latent loss, which is defined as the Kullback Leibler divergence \n",
    "        ##    between the distribution in latent space induced by the encoder on \n",
    "        #     the data and some prior. This acts as a kind of regularizer.\n",
    "        #     This can be interpreted as the number of \"nats\" required\n",
    "        #     for transmitting the the latent space distribution given\n",
    "        #     the prior.\n",
    "        self.latent_loss = latent_loss = -0.5 * tf.reduce_sum(1 + self.z_log_sigma_sq \n",
    "                                           - tf.square(self.z_mean) \n",
    "                                           - tf.exp(self.z_log_sigma_sq), 1)\n",
    "        \n",
    "        self.latent_loss_s = latent_loss_s = -0.5 * tf.reduce_sum(1 + self.z_log_sigma_sq_s \n",
    "                                           - tf.square(self.z_mean_s) \n",
    "                                           - tf.exp(self.z_log_sigma_sq_s), 1)\n",
    "        \n",
    "        self.cost = tf.reduce_mean(reconstr_loss + latent_loss + latent_loss_s)   # average over batch\n",
    "        \n",
    "        vars_enc = tf.get_collection(tf.GraphKeys.TRAINABLE_VARIABLES, \"encoder\")\n",
    "        \n",
    "        # Use ADAM optimizer\n",
    "        self.optimizer = \\\n",
    "            tf.train.AdamOptimizer(learning_rate=self.learning_rate).minimize(self.cost, var_list=vars_enc)\n",
    "        \n",
    "    def partial_fit(self, X):\n",
    "        \"\"\"Train model based on mini-batch of input data.\n",
    "        \n",
    "        Return cost of mini-batch.\n",
    "        \"\"\"\n",
    "        opt, cost = self.sess.run((self.optimizer, self.cost), \n",
    "                                  feed_dict={self.x: X})\n",
    "        return cost\n",
    "    \n",
    "    def debug(self, X):\n",
    "        re, la = self.sess.run((self.reconstr_loss, self.latent_loss), feed_dict={self.x: X})\n",
    "        return (re, la)\n",
    "    \n",
    "    def transform(self, X):\n",
    "        \"\"\"Transform data by mapping it into the latent space.\"\"\"\n",
    "        # Note: This maps to mean of distribution, we could alternatively\n",
    "        # sample from Gaussian distribution\n",
    "        return self.sess.run(self.z_mean, feed_dict={self.x: X})\n",
    "    \n",
    "    def generate(self, z_mu=None):\n",
    "        \"\"\" Generate data by sampling from latent space.\n",
    "        \n",
    "        If z_mu is not None, data for this point in latent space is\n",
    "        generated. Otherwise, z_mu is drawn from prior in latent \n",
    "        space.        \n",
    "        \"\"\"\n",
    "        if z_mu is None:\n",
    "            z_mu = np.random.normal(size=self.network_architecture[\"n_z\"])\n",
    "        # Note: This maps to mean of distribution, we could alternatively\n",
    "        # sample from Gaussian distribution\n",
    "        return self.sess.run(self.x_reconstr_mean, \n",
    "                             feed_dict={self.z: z_mu})\n",
    "    \n",
    "    def reconstruct(self, X):\n",
    "        \"\"\" Use VAE to reconstruct given data. \"\"\"\n",
    "        return self.sess.run([self.x_reconstr_mean, self.x_reconstr_mean_m, self.x_reconstr_mean_s], \n",
    "                             feed_dict={self.x: X})\n",
    "    \n",
    "    def restoreWeights(self, all_weights):\n",
    "        self.restoreDictWeights(self.network_weights, all_weights[\"mnist\"])\n",
    "        self.restoreDictWeights(self.network_weights2, all_weights[\"syn\"])\n",
    "        \n",
    "    def restoreDictWeights(self, network_weights, weights_dict):\n",
    "        assign_op1 = network_weights[\"weights_recog\"][\"h1\"].assign(weights_dict[\"weights_recog\"][\"h1\"])\n",
    "        assign_op2 = network_weights[\"weights_recog\"][\"h2\"].assign(weights_dict[\"weights_recog\"][\"h2\"])\n",
    "        assign_op3 = network_weights[\"weights_recog\"][\"out_mean\"].assign(weights_dict[\"weights_recog\"][\"out_mean\"])\n",
    "        assign_op4 = network_weights[\"weights_recog\"][\"out_log_sigma\"].assign(weights_dict[\"weights_recog\"][\"out_log_sigma\"])\n",
    "        self.sess.run([assign_op1, assign_op2, assign_op3, assign_op4])\n",
    "        assign_op1 = network_weights[\"biases_recog\"][\"b1\"].assign(weights_dict[\"biases_recog\"][\"b1\"])\n",
    "        assign_op2 = network_weights[\"biases_recog\"][\"b2\"].assign(weights_dict[\"biases_recog\"][\"b2\"])\n",
    "        assign_op3 = network_weights[\"biases_recog\"][\"out_mean\"].assign(weights_dict[\"biases_recog\"][\"out_mean\"])\n",
    "        assign_op4 = self.network_weights[\"biases_recog\"][\"out_log_sigma\"].assign(weights_dict[\"biases_recog\"][\"out_log_sigma\"])\n",
    "        self.sess.run([assign_op1, assign_op2, assign_op3, assign_op4])\n",
    "        assign_op1 = network_weights[\"weights_gener\"][\"h1\"].assign(weights_dict[\"weights_gener\"][\"h1\"])\n",
    "        assign_op2 = network_weights[\"weights_gener\"][\"h2\"].assign(weights_dict[\"weights_gener\"][\"h2\"])\n",
    "        assign_op3 = network_weights[\"weights_gener\"][\"out_mean\"].assign(weights_dict[\"weights_gener\"][\"out_mean\"])\n",
    "        assign_op4 = network_weights[\"weights_gener\"][\"out_log_sigma\"].assign(weights_dict[\"weights_gener\"][\"out_log_sigma\"])\n",
    "        self.sess.run([assign_op1, assign_op2, assign_op3, assign_op4])\n",
    "        assign_op1 = network_weights[\"biases_gener\"][\"b1\"].assign(weights_dict[\"biases_gener\"][\"b1\"])\n",
    "        assign_op2 = network_weights[\"biases_gener\"][\"b2\"].assign(weights_dict[\"biases_gener\"][\"b2\"])\n",
    "        assign_op3 = network_weights[\"biases_gener\"][\"out_mean\"].assign(weights_dict[\"biases_gener\"][\"out_mean\"])\n",
    "        assign_op4 = network_weights[\"biases_gener\"][\"out_log_sigma\"].assign(weights_dict[\"biases_gener\"][\"out_log_sigma\"])\n",
    "        self.sess.run([assign_op1, assign_op2, assign_op3, assign_op4])\n",
    "    \n",
    "    def getWeights(self):\n",
    "        all_weights = dict()\n",
    "        all_weights[\"mnist\"] = self.getDictWeights(self.network_weights)\n",
    "        all_weights[\"syn\"] = self.getDictWeights(self.network_weights2)\n",
    "        return all_weights \n",
    "    \n",
    "    def getDictWeights(self, network_weights):\n",
    "        all_weights = dict() \n",
    "        all_weights['weights_recog'] = {\n",
    "            'h1': self.sess.run(network_weights['weights_recog']['h1']),\n",
    "            'h2': self.sess.run(network_weights['weights_recog']['h2']),\n",
    "            'out_mean': self.sess.run(network_weights['weights_recog']['out_mean']),\n",
    "            'out_log_sigma': self.sess.run(network_weights['weights_recog']['out_log_sigma'])}\n",
    "        all_weights['biases_recog'] = {\n",
    "            'b1': self.sess.run(network_weights['biases_recog']['b1']),\n",
    "            'b2': self.sess.run(network_weights['biases_recog']['b2']),\n",
    "            'out_mean': self.sess.run(network_weights['biases_recog']['out_mean']),\n",
    "            'out_log_sigma': self.sess.run(network_weights['biases_recog']['out_log_sigma'])}\n",
    "        all_weights['weights_gener'] = {\n",
    "            'h1': self.sess.run(network_weights['weights_gener']['h1']), \n",
    "            'h2': self.sess.run(network_weights['weights_gener']['h2']), \n",
    "            'out_mean': self.sess.run(network_weights['weights_gener']['out_mean']), \n",
    "            'out_log_sigma': self.sess.run(network_weights['weights_gener']['out_log_sigma'])}\n",
    "        all_weights['biases_gener'] = {\n",
    "            'b1': self.sess.run(network_weights['biases_gener']['b1']),\n",
    "            'b2': self.sess.run(network_weights['biases_gener']['b2']),\n",
    "            'out_mean': self.sess.run(network_weights['biases_gener']['out_mean']),\n",
    "            'out_log_sigma': self.sess.run(network_weights['biases_gener']['out_log_sigma'])}\n",
    "        return all_weights "
   ]
  },
  {
   "cell_type": "markdown",
   "metadata": {},
   "source": [
    "# Create a training set of mixed data"
   ]
  },
  {
   "cell_type": "markdown",
   "metadata": {},
   "source": [
    "## First, fix the unscaled issue in the Synthesized data, and re-save the scaled dataset."
   ]
  },
  {
   "cell_type": "code",
   "execution_count": 556,
   "metadata": {
    "collapsed": true
   },
   "outputs": [],
   "source": [
    "with open(\"./BayesMixNet/syn_data_train.pickle\", \"rb\") as f:\n",
    "    syn_data_train = pickle.load(f)"
   ]
  },
  {
   "cell_type": "code",
   "execution_count": 557,
   "metadata": {
    "collapsed": false
   },
   "outputs": [
    {
     "name": "stdout",
     "output_type": "stream",
     "text": [
      "0.0917274234694\n",
      "0.288640785845\n"
     ]
    }
   ],
   "source": [
    "syn_data_train /= 255\n",
    "print(np.mean(syn_data_train))\n",
    "print(np.std(syn_data_train))"
   ]
  },
  {
   "cell_type": "code",
   "execution_count": 558,
   "metadata": {
    "collapsed": true
   },
   "outputs": [],
   "source": [
    "def normalizeData2(patches):\n",
    "    # subtract its mean and truncate it  to -/+3*std\n",
    "    patches = patches - np.mean(patches)\n",
    "    pstd = np.std(patches)\n",
    "    patches /= pstd\n",
    "    \n",
    "    # rescale from [-1, 1] to [0.1, 0.9] \n",
    "    # patches = (patches + 1) * 0.4 + 0.1\n",
    "    return patches"
   ]
  },
  {
   "cell_type": "code",
   "execution_count": 559,
   "metadata": {
    "collapsed": true
   },
   "outputs": [],
   "source": [
    "syn_data_train = normalizeData2(syn_data_train)"
   ]
  },
  {
   "cell_type": "code",
   "execution_count": 560,
   "metadata": {
    "collapsed": false
   },
   "outputs": [
    {
     "data": {
      "text/plain": [
       "(50000, 784)"
      ]
     },
     "execution_count": 560,
     "metadata": {},
     "output_type": "execute_result"
    }
   ],
   "source": [
    "syn_data_train.shape"
   ]
  },
  {
   "cell_type": "code",
   "execution_count": 561,
   "metadata": {
    "collapsed": false
   },
   "outputs": [
    {
     "name": "stdout",
     "output_type": "stream",
     "text": [
      "5.23142164509e-16\n",
      "1.0\n"
     ]
    }
   ],
   "source": [
    "print(np.mean(syn_data_train))\n",
    "print(np.std(syn_data_train))"
   ]
  },
  {
   "cell_type": "code",
   "execution_count": 562,
   "metadata": {
    "collapsed": true
   },
   "outputs": [],
   "source": [
    "with open(\"./BayesMixNet/syn_data_train.pickle\", \"wb\") as f:\n",
    "    pickle.dump(syn_data_train, f)"
   ]
  },
  {
   "cell_type": "code",
   "execution_count": 563,
   "metadata": {
    "collapsed": true
   },
   "outputs": [],
   "source": [
    "with open(\"./BayesMixNet/syn_data_test.pickle\", \"rb\") as f:\n",
    "    syn_data_test = pickle.load(f)"
   ]
  },
  {
   "cell_type": "code",
   "execution_count": 564,
   "metadata": {
    "collapsed": false
   },
   "outputs": [
    {
     "name": "stdout",
     "output_type": "stream",
     "text": [
      "0.0920121173469\n",
      "0.289043054939\n"
     ]
    }
   ],
   "source": [
    "syn_data_test /= 255\n",
    "print(np.mean(syn_data_test))\n",
    "print(np.std(syn_data_test))"
   ]
  },
  {
   "cell_type": "code",
   "execution_count": 565,
   "metadata": {
    "collapsed": true
   },
   "outputs": [],
   "source": [
    "syn_data_test = normalizeData2(syn_data_test)"
   ]
  },
  {
   "cell_type": "code",
   "execution_count": 566,
   "metadata": {
    "collapsed": false
   },
   "outputs": [
    {
     "name": "stdout",
     "output_type": "stream",
     "text": [
      "-9.64779276877e-17\n",
      "1.0\n"
     ]
    }
   ],
   "source": [
    "print(np.mean(syn_data_test))\n",
    "print(np.std(syn_data_test))"
   ]
  },
  {
   "cell_type": "code",
   "execution_count": 567,
   "metadata": {
    "collapsed": true
   },
   "outputs": [],
   "source": [
    "with open(\"./BayesMixNet/syn_data_test.pickle\", \"wb\") as f:\n",
    "    pickle.dump(syn_data_test, f)"
   ]
  },
  {
   "cell_type": "code",
   "execution_count": 573,
   "metadata": {
    "collapsed": false
   },
   "outputs": [
    {
     "data": {
      "text/plain": [
       "1.0"
      ]
     },
     "execution_count": 573,
     "metadata": {},
     "output_type": "execute_result"
    }
   ],
   "source": [
    "np.max(mnist.train.images)"
   ]
  },
  {
   "cell_type": "code",
   "execution_count": 6,
   "metadata": {
    "collapsed": true
   },
   "outputs": [],
   "source": [
    "# MNIST + Synthetic image generator\n",
    "# You can check an example of the images like this:\n",
    "# % matplotlib inline \n",
    "# images, alphas = generateSynthetic(10)\n",
    "# print(images.shape)\n",
    "# print(alphas[1])\n",
    "# plt_out = plt.imshow(images[1].reshape(28,28), cmap=\"gray\")\n",
    "def generateMixed(which): # n = training examples  \n",
    "    if which == \"train\":\n",
    "        with open(\"./BayesMixNet/syn_data_train.pickle\", \"rb\") as f:\n",
    "            syn_data = pickle.load(f)\n",
    "        n_samples, _ = syn_data.shape\n",
    "        mnist_data = mnist.train.images[:n_samples]\n",
    "    if which == \"test\":\n",
    "        with open(\"./BayesMixNet/syn_data_test.pickle\", \"rb\") as f:\n",
    "            syn_data = pickle.load(f)\n",
    "        n_samples, _ = syn_data.shape\n",
    "        mnist_data = mnist.test.images[:n_samples]\n",
    "    mix_data = np.clip(syn_data + mnist_data, 0, 1)\n",
    "    return mix_data"
   ]
  },
  {
   "cell_type": "code",
   "execution_count": 9,
   "metadata": {
    "collapsed": false
   },
   "outputs": [],
   "source": [
    "mix_data_train = generateMixed(\"train\")"
   ]
  },
  {
   "cell_type": "code",
   "execution_count": 10,
   "metadata": {
    "collapsed": false
   },
   "outputs": [
    {
     "data": {
      "text/plain": [
       "(50000, 784)"
      ]
     },
     "execution_count": 10,
     "metadata": {},
     "output_type": "execute_result"
    }
   ],
   "source": [
    "mix_data_train.shape"
   ]
  },
  {
   "cell_type": "code",
   "execution_count": 11,
   "metadata": {
    "collapsed": true
   },
   "outputs": [],
   "source": [
    "np.random.shuffle(mix_data_train)"
   ]
  },
  {
   "cell_type": "code",
   "execution_count": 12,
   "metadata": {
    "collapsed": false
   },
   "outputs": [
    {
     "data": {
      "image/png": "[encoded data removed]",
      "text/plain": [
       "<matplotlib.figure.Figure at 0x1120e0e48>"
      ]
     },
     "metadata": {},
     "output_type": "display_data"
    }
   ],
   "source": [
    "pltt = plt.imshow(mix_data_train[0].reshape(28, 28), cmap=\"gray\")"
   ]
  },
  {
   "cell_type": "code",
   "execution_count": 626,
   "metadata": {
    "collapsed": true
   },
   "outputs": [],
   "source": [
    "with open(\"./BayesMixNet/mix_data_train.pickle\", \"wb\") as f:\n",
    "    pickle.dump(mix_data_train, f)"
   ]
  },
  {
   "cell_type": "markdown",
   "metadata": {},
   "source": [
    "# END : Create a training set of mixed data"
   ]
  },
  {
   "cell_type": "markdown",
   "metadata": {},
   "source": [
    "# BEGIN : Training"
   ]
  },
  {
   "cell_type": "code",
   "execution_count": 13,
   "metadata": {
    "collapsed": false
   },
   "outputs": [],
   "source": [
    "def train_mixed(training_epochs, batch_size, display_step):\n",
    "    with tf.Graph().as_default():\n",
    "        network_architecture = \\\n",
    "            dict(n_hidden_recog_1=500, # 1st layer encoder neurons\n",
    "                 n_hidden_recog_2=500, # 2nd layer encoder neurons\n",
    "                 n_hidden_gener_1=500, # 1st layer decoder neurons\n",
    "                 n_hidden_gener_2=500, # 2nd layer decoder neurons\n",
    "                 n_input=784, # MNIST data input (img shape: 28*28)\n",
    "                 n_z=20)  # dimensionality of latent space\n",
    "        #def train(network_architecture, learning_rate=0.001,\n",
    "        #          batch_size=100\n",
    "        vae_test = VariationlMixNet(network_architecture, network_architecture,\n",
    "                                         learning_rate=0.001, \n",
    "                                         batch_size=100)\n",
    "\n",
    "        with open(\"./BayesMixNet/mnist_weights_ae.pickle\", \"rb\") as f:\n",
    "            m_weights = pickle.load(f)\n",
    "        with open(\"./BayesMixNet/syn_weights_ae.pickle\", \"rb\") as f:\n",
    "            s_weights = pickle.load(f)\n",
    "        all_weights = {\"mnist\": m_weights, \"syn\": s_weights}\n",
    "        vae_test.restoreWeights(all_weights)\n",
    "\n",
    "        # visualizeImage(15, vae_test, \"syn\")  -> Looks good! The weights are sucessfully restored.\n",
    "\n",
    "        # Now it's time for training. \n",
    "\n",
    "        # Training cycle\n",
    "        n_samples, _ = mix_data_train.shape\n",
    "        for epoch in range(training_epochs):\n",
    "            avg_cost = 0.\n",
    "            total_batch = int(n_samples / batch_size)\n",
    "            # Loop over all batches\n",
    "            for i in range(total_batch):\n",
    "                # batch_xs, _ = mnist.train.next_batch(batch_size)\n",
    "                batch_xs = get_random_block_from_data(mix_data_train, batch_size)\n",
    "\n",
    "                cost = vae_test.partial_fit(batch_xs)\n",
    "                # Compute average loss\n",
    "                avg_cost += cost / n_samples * batch_size\n",
    "\n",
    "            # Display logs per epoch step\n",
    "            if epoch % display_step == 0:\n",
    "                print(\"Epoch:\", '%04d' % (epoch+1), \\\n",
    "                      \"cost=\", \"{:.9f}\".format(avg_cost))\n",
    "    return vae_test"
   ]
  },
  {
   "cell_type": "code",
   "execution_count": 16,
   "metadata": {
    "collapsed": false
   },
   "outputs": [
    {
     "name": "stdout",
     "output_type": "stream",
     "text": [
      "Epoch: 0001 cost= 225.607330933\n",
      "Epoch: 0002 cost= 218.621547333\n",
      "Epoch: 0003 cost= 217.053580017\n",
      "Epoch: 0004 cost= 216.396262695\n",
      "Epoch: 0005 cost= 214.998882874\n",
      "Epoch: 0006 cost= 214.674085327\n",
      "Epoch: 0007 cost= 214.253919769\n",
      "Epoch: 0008 cost= 213.618989655\n",
      "Epoch: 0009 cost= 213.597838226\n",
      "Epoch: 0010 cost= 214.143911224\n"
     ]
    }
   ],
   "source": [
    "vae_mix = train_mixed(training_epochs=10, batch_size=100, display_step=1)"
   ]
  },
  {
   "cell_type": "code",
   "execution_count": 32,
   "metadata": {
    "collapsed": false
   },
   "outputs": [],
   "source": [
    "mix_data_test = generateMixed(\"test\")\n",
    "mix_data_test.shape\n",
    "np.random.shuffle(mix_data_test)"
   ]
  },
  {
   "cell_type": "code",
   "execution_count": 34,
   "metadata": {
    "collapsed": false
   },
   "outputs": [
    {
     "data": {
      "image/png": "[encoded data removed]",
      "text/plain": [
       "<matplotlib.figure.Figure at 0x11217bb70>"
      ]
     },
     "metadata": {},
     "output_type": "display_data"
    }
   ],
   "source": [
    "visualizeImage(51, vae_mix, \"mix\") "
   ]
  },
  {
   "cell_type": "code",
   "execution_count": null,
   "metadata": {
    "collapsed": true
   },
   "outputs": [],
   "source": [
    "def train(network_architecture, learning_rate=0.001,\n",
    "          batch_size=100, training_epochs=10, display_step=5):\n",
    "    with tf.Graph().as_default():\n",
    "        vae = VariationalAutoencoder(network_architecture, \n",
    "                                     learning_rate=learning_rate, \n",
    "                                     batch_size=batch_size)\n",
    "        # Training cycle\n",
    "        for epoch in range(training_epochs):\n",
    "            avg_cost = 0.\n",
    "            total_batch = int(n_samples / batch_size)\n",
    "            # Loop over all batches\n",
    "            for i in range(total_batch):\n",
    "                # batch_xs, _ = mnist.train.next_batch(batch_size)\n",
    "                batch_xs = get_random_block_from_data(syn_data_train, batch_size)\n",
    "\n",
    "                # Fit training using batch data\n",
    "#                 if epoch >= 3:\n",
    "#                     re, la = vae.debug(batch_xs)\n",
    "#                     print(re)\n",
    "#                     print(la)\n",
    "                cost = vae.partial_fit(batch_xs)\n",
    "                # Compute average loss\n",
    "                avg_cost += cost / n_samples * batch_size\n",
    "\n",
    "            # Display logs per epoch step\n",
    "            if epoch % display_step == 0:\n",
    "                print(\"Epoch:\", '%04d' % (epoch+1), \\\n",
    "                      \"cost=\", \"{:.9f}\".format(avg_cost))\n",
    "    return vae"
   ]
  },
  {
   "cell_type": "code",
   "execution_count": 30,
   "metadata": {
    "collapsed": true
   },
   "outputs": [],
   "source": [
    "def visualizeImage(i, vae_mnist, data):\n",
    "    if data == \"mix\":\n",
    "        x_sample = mix_data_test[:100] # the 100 here is maching with the batchsize in training mixed_vae\n",
    "        x_mix, x_m, x_s = vae_mnist.reconstruct(x_sample)\n",
    "        fig, axes = plt.subplots(nrows=1, ncols=4, sharex=True, sharey=True, figsize=(20,5))\n",
    "        plt_ = axes[0].imshow(x_sample[i].reshape(28, 28), cmap=\"gray\")\n",
    "        plt_ = axes[1].imshow(x_m[i].reshape(28, 28), cmap=\"gray\")\n",
    "        plt_ = axes[2].imshow(x_s[i].reshape(28, 28), cmap=\"gray\")\n",
    "        plt_ = axes[3].imshow(x_mix[i].reshape(28, 28), cmap=\"gray\")\n",
    "    else:\n",
    "        if data == \"mnist\":\n",
    "            x_sample = mnist.test.next_batch(100)[0]\n",
    "            _ , x_reconstruct, _ = vae_mnist.reconstruct(x_sample)\n",
    "        if data == \"syn\":\n",
    "            x_sample = syn_data_test[:100]\n",
    "            _ , _, x_reconstruct = vae_mnist.reconstruct(x_sample)\n",
    "\n",
    "\n",
    "        fig, axes = plt.subplots(nrows=1, ncols=2, sharex=True, sharey=True, figsize=(10,5))\n",
    "        plt_ = axes[0].imshow(x_sample[i].reshape(28, 28), cmap=\"gray\")\n",
    "        plt_ = axes[1].imshow(x_reconstruct[i].reshape(28, 28), cmap=\"gray\") "
   ]
  },
  {
   "cell_type": "code",
   "execution_count": 522,
   "metadata": {
    "collapsed": false
   },
   "outputs": [],
   "source": [
    "class VariationlMixNetTest(object):\n",
    "    \"\"\" Variation Mixture Net with an sklearn-like interface implemented using TensorFlow.\n",
    "    \n",
    "    This implementation uses probabilistic encoders and decoders using Gaussian \n",
    "    distributions and  realized by multi-layer perceptrons. The Variational Mix Net requires\n",
    "    a set of trained weights.\n",
    "    \n",
    "    See \"Auto-Encoding Variational Bayes\" by Kingma and Welling for more details.\n",
    "    \"\"\"\n",
    "    def __init__(self, network_architecture1, network_architecture2, transfer_fct=tf.nn.softplus, \n",
    "                 learning_rate=0.001, batch_size=100):\n",
    "        self.network_architecture = network_architecture1\n",
    "        self.network_architecture2 = network_architecture2\n",
    "        self.transfer_fct = transfer_fct\n",
    "        self.learning_rate = learning_rate\n",
    "        self.batch_size = batch_size\n",
    "        \n",
    "        # tf Graph input\n",
    "        self.x = tf.placeholder(tf.float32, [None, self.network_architecture[\"n_input\"]])\n",
    "        \n",
    "        \n",
    "        # Create autoencoder network\n",
    "        self._create_network()\n",
    "        # Define loss function based variational upper-bound and \n",
    "        # corresponding optimizer\n",
    "        # self._create_loss_optimizer()\n",
    "        \n",
    "        # Initializing the tensor flow variables\n",
    "        init = tf.initialize_all_variables()\n",
    "\n",
    "        # Launch the session\n",
    "        self.sess = tf.Session()\n",
    "        self.sess.run(init)\n",
    "        \n",
    "    \n",
    "    def _create_network(self):\n",
    "        # Initialize autoencode network weights and biases\n",
    "        self.network_weights = network_weights = self._initialize_weights(**self.network_architecture)\n",
    "        self.network_weights2 = network_weights2 = self._initialize_weights(**self.network_architecture2)\n",
    "\n",
    "        \n",
    "            \n",
    "    def _initialize_weights(self, n_hidden_recog_1, n_hidden_recog_2, \n",
    "                            n_hidden_gener_1,  n_hidden_gener_2, \n",
    "                            n_input, n_z):\n",
    "        all_weights = dict()\n",
    "        with tf.name_scope(\"encoder\") as scope:\n",
    "            all_weights['weights_recog'] = {\n",
    "                'h1': tf.Variable(xavier_init(n_input, n_hidden_recog_1)),\n",
    "                'h2': tf.Variable(xavier_init(n_hidden_recog_1, n_hidden_recog_2)),\n",
    "                'out_mean': tf.Variable(xavier_init(n_hidden_recog_2, n_z)),\n",
    "                'out_log_sigma': tf.Variable(xavier_init(n_hidden_recog_2, n_z))}\n",
    "            all_weights['biases_recog'] = {\n",
    "                'b1': tf.Variable(tf.zeros([n_hidden_recog_1], dtype=tf.float32)),\n",
    "                'b2': tf.Variable(tf.zeros([n_hidden_recog_2], dtype=tf.float32)),\n",
    "                'out_mean': tf.Variable(tf.zeros([n_z], dtype=tf.float32)),\n",
    "                'out_log_sigma': tf.Variable(tf.zeros([n_z], dtype=tf.float32))}\n",
    "        with tf.name_scope(\"decoder\") as scope:\n",
    "            all_weights['weights_gener'] = {\n",
    "                'h1': tf.Variable(xavier_init(n_z, n_hidden_gener_1)),\n",
    "                'h2': tf.Variable(xavier_init(n_hidden_gener_1, n_hidden_gener_2)),\n",
    "                'out_mean': tf.Variable(xavier_init(n_hidden_gener_2, n_input)),\n",
    "                'out_log_sigma': tf.Variable(xavier_init(n_hidden_gener_2, n_input))}\n",
    "            all_weights['biases_gener'] = {\n",
    "                'b1': tf.Variable(tf.zeros([n_hidden_gener_1], dtype=tf.float32)),\n",
    "                'b2': tf.Variable(tf.zeros([n_hidden_gener_2], dtype=tf.float32)),\n",
    "                'out_mean': tf.Variable(tf.zeros([n_input], dtype=tf.float32)),\n",
    "                'out_log_sigma': tf.Variable(tf.zeros([n_input], dtype=tf.float32))}\n",
    "        return all_weights"
   ]
  },
  {
   "cell_type": "code",
   "execution_count": 523,
   "metadata": {
    "collapsed": false
   },
   "outputs": [
    {
     "name": "stdout",
     "output_type": "stream",
     "text": [
      "encoder/Variable:0\n",
      "encoder/Variable_1:0\n",
      "encoder/Variable_2:0\n",
      "encoder/Variable_3:0\n",
      "encoder/Variable_4:0\n",
      "encoder/Variable_5:0\n",
      "encoder/Variable_6:0\n",
      "encoder/Variable_7:0\n",
      "encoder_1/Variable:0\n",
      "encoder_1/Variable_1:0\n",
      "encoder_1/Variable_2:0\n",
      "encoder_1/Variable_3:0\n",
      "encoder_1/Variable_4:0\n",
      "encoder_1/Variable_5:0\n",
      "encoder_1/Variable_6:0\n",
      "encoder_1/Variable_7:0\n"
     ]
    }
   ],
   "source": [
    "with tf.Graph().as_default():\n",
    "    network_architecture = \\\n",
    "        dict(n_hidden_recog_1=500, # 1st layer encoder neurons\n",
    "             n_hidden_recog_2=500, # 2nd layer encoder neurons\n",
    "             n_hidden_gener_1=500, # 1st layer decoder neurons\n",
    "             n_hidden_gener_2=500, # 2nd layer decoder neurons\n",
    "             n_input=784, # MNIST data input (img shape: 28*28)\n",
    "             n_z=20)  # dimensionality of latent space\n",
    "    #def train(network_architecture, learning_rate=0.001,\n",
    "    #          batch_size=100\n",
    "    vae_test = VariationlMixNetTest(network_architecture, network_architecture,\n",
    "                                     learning_rate=0.001, \n",
    "                                     batch_size=100)\n",
    "            # vars_enc = tf.get_collection(tf.GraphKeys.TRAINABLE_VARIABLES, \"encoder\")\n",
    "    tvars = tf.get_collection(tf.GraphKeys.TRAINABLE_VARIABLES, \"encoder\")\n",
    "    for node in tvars:\n",
    "        print(node.name)"
   ]
  },
  {
   "cell_type": "code",
   "execution_count": null,
   "metadata": {
    "collapsed": true
   },
   "outputs": [],
   "source": []
  }
 ],
 "metadata": {
  "kernelspec": {
   "display_name": "Python 3",
   "language": "python",
   "name": "python3"
  },
  "language_info": {
   "codemirror_mode": {
    "name": "ipython",
    "version": 3
   },
   "file_extension": ".py",
   "mimetype": "text/x-python",
   "name": "python",
   "nbconvert_exporter": "python",
   "pygments_lexer": "ipython3",
   "version": "3.4.3"
  }
 },
 "nbformat": 4,
 "nbformat_minor": 0
}
